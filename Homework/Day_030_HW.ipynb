{
 "cells": [
  {
   "cell_type": "markdown",
   "metadata": {
    "collapsed": true
   },
   "source": [
    "# 作業 : (Kaggle)鐵達尼生存預測\n",
    "***"
   ]
  },
  {
   "cell_type": "code",
   "execution_count": 7,
   "metadata": {},
   "outputs": [
    {
     "data": {
      "text/html": [
       "<div>\n",
       "<style>\n",
       "    .dataframe thead tr:only-child th {\n",
       "        text-align: right;\n",
       "    }\n",
       "\n",
       "    .dataframe thead th {\n",
       "        text-align: left;\n",
       "    }\n",
       "\n",
       "    .dataframe tbody tr th {\n",
       "        vertical-align: top;\n",
       "    }\n",
       "</style>\n",
       "<table border=\"1\" class=\"dataframe\">\n",
       "  <thead>\n",
       "    <tr style=\"text-align: right;\">\n",
       "      <th></th>\n",
       "      <th>Pclass</th>\n",
       "      <th>Name</th>\n",
       "      <th>Sex</th>\n",
       "      <th>Age</th>\n",
       "      <th>SibSp</th>\n",
       "      <th>Parch</th>\n",
       "      <th>Ticket</th>\n",
       "      <th>Fare</th>\n",
       "      <th>Cabin</th>\n",
       "      <th>Embarked</th>\n",
       "    </tr>\n",
       "  </thead>\n",
       "  <tbody>\n",
       "    <tr>\n",
       "      <th>0</th>\n",
       "      <td>3</td>\n",
       "      <td>Braund, Mr. Owen Harris</td>\n",
       "      <td>male</td>\n",
       "      <td>22.0</td>\n",
       "      <td>1</td>\n",
       "      <td>0</td>\n",
       "      <td>A/5 21171</td>\n",
       "      <td>7.2500</td>\n",
       "      <td>NaN</td>\n",
       "      <td>S</td>\n",
       "    </tr>\n",
       "    <tr>\n",
       "      <th>1</th>\n",
       "      <td>1</td>\n",
       "      <td>Cumings, Mrs. John Bradley (Florence Briggs Th...</td>\n",
       "      <td>female</td>\n",
       "      <td>38.0</td>\n",
       "      <td>1</td>\n",
       "      <td>0</td>\n",
       "      <td>PC 17599</td>\n",
       "      <td>71.2833</td>\n",
       "      <td>C85</td>\n",
       "      <td>C</td>\n",
       "    </tr>\n",
       "    <tr>\n",
       "      <th>2</th>\n",
       "      <td>3</td>\n",
       "      <td>Heikkinen, Miss. Laina</td>\n",
       "      <td>female</td>\n",
       "      <td>26.0</td>\n",
       "      <td>0</td>\n",
       "      <td>0</td>\n",
       "      <td>STON/O2. 3101282</td>\n",
       "      <td>7.9250</td>\n",
       "      <td>NaN</td>\n",
       "      <td>S</td>\n",
       "    </tr>\n",
       "    <tr>\n",
       "      <th>3</th>\n",
       "      <td>1</td>\n",
       "      <td>Futrelle, Mrs. Jacques Heath (Lily May Peel)</td>\n",
       "      <td>female</td>\n",
       "      <td>35.0</td>\n",
       "      <td>1</td>\n",
       "      <td>0</td>\n",
       "      <td>113803</td>\n",
       "      <td>53.1000</td>\n",
       "      <td>C123</td>\n",
       "      <td>S</td>\n",
       "    </tr>\n",
       "    <tr>\n",
       "      <th>4</th>\n",
       "      <td>3</td>\n",
       "      <td>Allen, Mr. William Henry</td>\n",
       "      <td>male</td>\n",
       "      <td>35.0</td>\n",
       "      <td>0</td>\n",
       "      <td>0</td>\n",
       "      <td>373450</td>\n",
       "      <td>8.0500</td>\n",
       "      <td>NaN</td>\n",
       "      <td>S</td>\n",
       "    </tr>\n",
       "  </tbody>\n",
       "</table>\n",
       "</div>"
      ],
      "text/plain": [
       "   Pclass                                               Name     Sex   Age  \\\n",
       "0       3                            Braund, Mr. Owen Harris    male  22.0   \n",
       "1       1  Cumings, Mrs. John Bradley (Florence Briggs Th...  female  38.0   \n",
       "2       3                             Heikkinen, Miss. Laina  female  26.0   \n",
       "3       1       Futrelle, Mrs. Jacques Heath (Lily May Peel)  female  35.0   \n",
       "4       3                           Allen, Mr. William Henry    male  35.0   \n",
       "\n",
       "   SibSp  Parch            Ticket     Fare Cabin Embarked  \n",
       "0      1      0         A/5 21171   7.2500   NaN        S  \n",
       "1      1      0          PC 17599  71.2833   C85        C  \n",
       "2      0      0  STON/O2. 3101282   7.9250   NaN        S  \n",
       "3      1      0            113803  53.1000  C123        S  \n",
       "4      0      0            373450   8.0500   NaN        S  "
      ]
     },
     "execution_count": 7,
     "metadata": {},
     "output_type": "execute_result"
    }
   ],
   "source": [
    "# 做完特徵工程前的所有準備\n",
    "import pandas as pd\n",
    "import numpy as np\n",
    "import copy\n",
    "from sklearn.preprocessing import LabelEncoder, MinMaxScaler\n",
    "from sklearn.linear_model import LogisticRegression\n",
    "from sklearn.ensemble import RandomForestClassifier\n",
    "# 因為擬合(fit)與編碼(transform)需要分開, 因此不使用.get_dummy, 而採用 sklearn 的 OneHotEncoder\n",
    "from sklearn.preprocessing import OneHotEncoder\n",
    "from sklearn.model_selection import train_test_split\n",
    "from sklearn.metrics import roc_curve\n",
    "\n",
    "data_path = '../data/'\n",
    "df = pd.read_csv(data_path + 'titanic_train.csv')\n",
    "\n",
    "train_Y = df['Survived']\n",
    "df = df.drop(['PassengerId', 'Survived'] , axis=1)\n",
    "df.head()"
   ]
  },
  {
   "cell_type": "code",
   "execution_count": 8,
   "metadata": {},
   "outputs": [
    {
     "name": "stderr",
     "output_type": "stream",
     "text": [
      "C:\\ProgramData\\Anaconda3\\lib\\site-packages\\sklearn\\utils\\validation.py:429: DataConversionWarning: Data with input dtype int64 was converted to float64 by MinMaxScaler.\n",
      "  warnings.warn(msg, _DataConversionWarning)\n"
     ]
    },
    {
     "data": {
      "text/html": [
       "<div>\n",
       "<style>\n",
       "    .dataframe thead tr:only-child th {\n",
       "        text-align: right;\n",
       "    }\n",
       "\n",
       "    .dataframe thead th {\n",
       "        text-align: left;\n",
       "    }\n",
       "\n",
       "    .dataframe tbody tr th {\n",
       "        vertical-align: top;\n",
       "    }\n",
       "</style>\n",
       "<table border=\"1\" class=\"dataframe\">\n",
       "  <thead>\n",
       "    <tr style=\"text-align: right;\">\n",
       "      <th></th>\n",
       "      <th>Pclass</th>\n",
       "      <th>Name</th>\n",
       "      <th>Sex</th>\n",
       "      <th>Age</th>\n",
       "      <th>SibSp</th>\n",
       "      <th>Parch</th>\n",
       "      <th>Ticket</th>\n",
       "      <th>Fare</th>\n",
       "      <th>Cabin</th>\n",
       "      <th>Embarked</th>\n",
       "    </tr>\n",
       "  </thead>\n",
       "  <tbody>\n",
       "    <tr>\n",
       "      <th>0</th>\n",
       "      <td>1.0</td>\n",
       "      <td>0.121348</td>\n",
       "      <td>1.0</td>\n",
       "      <td>0.283951</td>\n",
       "      <td>0.125</td>\n",
       "      <td>0.0</td>\n",
       "      <td>0.769118</td>\n",
       "      <td>0.014151</td>\n",
       "      <td>0.000000</td>\n",
       "      <td>1.000000</td>\n",
       "    </tr>\n",
       "    <tr>\n",
       "      <th>1</th>\n",
       "      <td>0.0</td>\n",
       "      <td>0.213483</td>\n",
       "      <td>0.0</td>\n",
       "      <td>0.481481</td>\n",
       "      <td>0.125</td>\n",
       "      <td>0.0</td>\n",
       "      <td>0.876471</td>\n",
       "      <td>0.139136</td>\n",
       "      <td>0.557823</td>\n",
       "      <td>0.333333</td>\n",
       "    </tr>\n",
       "    <tr>\n",
       "      <th>2</th>\n",
       "      <td>1.0</td>\n",
       "      <td>0.396629</td>\n",
       "      <td>0.0</td>\n",
       "      <td>0.333333</td>\n",
       "      <td>0.000</td>\n",
       "      <td>0.0</td>\n",
       "      <td>0.983824</td>\n",
       "      <td>0.015469</td>\n",
       "      <td>0.000000</td>\n",
       "      <td>1.000000</td>\n",
       "    </tr>\n",
       "    <tr>\n",
       "      <th>3</th>\n",
       "      <td>0.0</td>\n",
       "      <td>0.305618</td>\n",
       "      <td>0.0</td>\n",
       "      <td>0.444444</td>\n",
       "      <td>0.125</td>\n",
       "      <td>0.0</td>\n",
       "      <td>0.072059</td>\n",
       "      <td>0.103644</td>\n",
       "      <td>0.380952</td>\n",
       "      <td>1.000000</td>\n",
       "    </tr>\n",
       "    <tr>\n",
       "      <th>4</th>\n",
       "      <td>1.0</td>\n",
       "      <td>0.016854</td>\n",
       "      <td>1.0</td>\n",
       "      <td>0.444444</td>\n",
       "      <td>0.000</td>\n",
       "      <td>0.0</td>\n",
       "      <td>0.694118</td>\n",
       "      <td>0.015713</td>\n",
       "      <td>0.000000</td>\n",
       "      <td>1.000000</td>\n",
       "    </tr>\n",
       "  </tbody>\n",
       "</table>\n",
       "</div>"
      ],
      "text/plain": [
       "   Pclass      Name  Sex       Age  SibSp  Parch    Ticket      Fare  \\\n",
       "0     1.0  0.121348  1.0  0.283951  0.125    0.0  0.769118  0.014151   \n",
       "1     0.0  0.213483  0.0  0.481481  0.125    0.0  0.876471  0.139136   \n",
       "2     1.0  0.396629  0.0  0.333333  0.000    0.0  0.983824  0.015469   \n",
       "3     0.0  0.305618  0.0  0.444444  0.125    0.0  0.072059  0.103644   \n",
       "4     1.0  0.016854  1.0  0.444444  0.000    0.0  0.694118  0.015713   \n",
       "\n",
       "      Cabin  Embarked  \n",
       "0  0.000000  1.000000  \n",
       "1  0.557823  0.333333  \n",
       "2  0.000000  1.000000  \n",
       "3  0.380952  1.000000  \n",
       "4  0.000000  1.000000  "
      ]
     },
     "execution_count": 8,
     "metadata": {},
     "output_type": "execute_result"
    }
   ],
   "source": [
    "# 因為需要把類別型與數值型特徵都加入, 故使用最簡版的特徵工程\n",
    "LEncoder = LabelEncoder()\n",
    "MMEncoder = MinMaxScaler()\n",
    "for c in df.columns:\n",
    "    df[c] = df[c].fillna(-1)\n",
    "    if df[c].dtype == 'object':\n",
    "        df[c] = LEncoder.fit_transform(list(df[c].values))\n",
    "    df[c] = MMEncoder.fit_transform(df[c].values.reshape(-1, 1))\n",
    "df.head()"
   ]
  },
  {
   "cell_type": "code",
   "execution_count": 9,
   "metadata": {
    "collapsed": true
   },
   "outputs": [],
   "source": [
    "train_X = df.values\n",
    "# 因為訓練邏輯斯迴歸時也要資料, 因此將訓練及切成三部分 train / val / test, 採用 test 驗證而非 k-fold 交叉驗證\n",
    "# train 用來訓練梯度提升樹, val 用來訓練邏輯斯迴歸, test 驗證效果\n",
    "train_X, test_X, train_Y, test_Y = train_test_split(train_X, train_Y, test_size=0.5)\n",
    "train_X, val_X, train_Y, val_Y = train_test_split(train_X, train_Y, test_size=0.5)"
   ]
  },
  {
   "cell_type": "markdown",
   "metadata": {
    "collapsed": true
   },
   "source": [
    "# 作業1\n",
    "* 請對照範例，完成隨機森林的鐵達尼生存率預測，以及對應的葉編碼+邏輯斯迴歸"
   ]
  },
  {
   "cell_type": "code",
<<<<<<< HEAD
   "execution_count": 4,
=======
   "execution_count": 10,
>>>>>>> 29fb1a8fa5d9cf92c9f785efe1986e19134a941d
   "metadata": {},
   "outputs": [
    {
     "data": {
      "text/plain": [
       "LogisticRegression(C=1.0, class_weight=None, dual=False, fit_intercept=True,\n",
       "          intercept_scaling=1, max_iter=1000, multi_class='ovr', n_jobs=1,\n",
       "          penalty='l2', random_state=None, solver='lbfgs', tol=0.0001,\n",
       "          verbose=0, warm_start=False)"
      ]
     },
<<<<<<< HEAD
     "execution_count": 4,
=======
     "execution_count": 10,
>>>>>>> 29fb1a8fa5d9cf92c9f785efe1986e19134a941d
     "metadata": {},
     "output_type": "execute_result"
    }
   ],
   "source": [
    "# 隨機森林擬合後, 再將葉編碼 (*.apply) 結果做獨熱 / 邏輯斯迴歸\n",
    "rf = RandomForestClassifier(n_estimators=20, min_samples_split=10, min_samples_leaf=5, \n",
    "                            max_features=4, max_depth=3, bootstrap=True)\n",
    "onehot = OneHotEncoder()\n",
    "lr = LogisticRegression(solver='lbfgs', max_iter=1000)\n",
    "\n",
    "\"\"\"\n",
    "Your Code Here (Hint : 隨機森林的葉編碼(.apply)不需要加上[:, :, 0], 直接用rf.apply()調用即可, 本作業其餘寫法相同)\n",
    "\"\"\"\n",
    "rf.fit(train_X, train_Y)\n",
    "onehot.fit(rf.apply(train_X))\n",
    "lr.fit(onehot.transform(rf.apply(val_X)), val_Y)"
   ]
  },
  {
   "cell_type": "code",
<<<<<<< HEAD
   "execution_count": 5,
=======
   "execution_count": 11,
>>>>>>> 29fb1a8fa5d9cf92c9f785efe1986e19134a941d
   "metadata": {},
   "outputs": [],
   "source": [
    "# 將隨機森林+葉編碼+邏輯斯迴歸結果輸出\n",
    "\"\"\"\n",
    "Your Code Here \n",
    "\"\"\"\n",
    "pred_rf_lr = lr.predict_proba(onehot.transform(rf.apply(test_X)))[:, 1]\n",
    "fpr_rf_lr, tpr_rf_lr, _ = roc_curve(test_Y, pred_rf_lr)\n",
    "# 將隨機森林結果輸出\n",
    "\"\"\"\n",
    "Your Code Here \n",
    "\"\"\"\n",
    "pred_rf = rf.predict_proba(test_X)[:, 1]\n",
    "fpr_rf, tpr_rf, _ = roc_curve(test_Y, pred_rf)"
   ]
  },
  {
   "cell_type": "markdown",
   "metadata": {},
   "source": [
    "# 作業2\n",
    "* 上述的結果，葉編碼是否有提高預測的正確性呢?\n",
    "\n",
    "ANS: 沒有"
   ]
  },
  {
   "cell_type": "code",
<<<<<<< HEAD
   "execution_count": 6,
=======
   "execution_count": 12,
>>>>>>> 29fb1a8fa5d9cf92c9f785efe1986e19134a941d
   "metadata": {},
   "outputs": [
    {
     "data": {
<<<<<<< HEAD
      "image/png": "iVBORw0KGgoAAAANSUhEUgAAAYUAAAEWCAYAAACJ0YulAAAABHNCSVQICAgIfAhkiAAAAAlwSFlz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\noklBKaVUlv8HsS4d9HZi/cYAAAAASUVORK5CYII=\n",
      "text/plain": [
       "<matplotlib.figure.Figure at 0x20775520dd8>"
=======
      "image/png": "iVBORw0KGgoAAAANSUhEUgAAAYUAAAEWCAYAAACJ0YulAAAABHNCSVQICAgIfAhkiAAAAAlwSFlz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\nowBAXQVg21JFM0cwAAAAAElFTkSuQmCC\n",
      "text/plain": [
       "<matplotlib.figure.Figure at 0x21215e85dd8>"
>>>>>>> 29fb1a8fa5d9cf92c9f785efe1986e19134a941d
      ]
     },
     "metadata": {},
     "output_type": "display_data"
    }
   ],
   "source": [
    "import matplotlib.pyplot as plt\n",
    "# 將結果繪圖\n",
    "\"\"\"\n",
    "Your Code Here \n",
    "\"\"\"\n",
<<<<<<< HEAD
    "import matplotlib.pyplot as plt\n",
=======
>>>>>>> 29fb1a8fa5d9cf92c9f785efe1986e19134a941d
    "plt.plot([0, 1], [0, 1], 'k--')\n",
    "plt.plot(fpr_rf, tpr_rf, label='RF')\n",
    "plt.plot(fpr_rf_lr, tpr_rf_lr, label='RF + LR')\n",
    "plt.xlabel('False positive rate')\n",
    "plt.ylabel('True positive rate')\n",
    "plt.title('ROC curve')\n",
    "plt.legend(loc='best')\n",
    "plt.show()"
   ]
  },
  {
   "cell_type": "code",
   "execution_count": null,
   "metadata": {
    "collapsed": true
   },
   "outputs": [],
   "source": []
  }
 ],
 "metadata": {
  "kernelspec": {
   "display_name": "Python 3",
   "language": "python",
   "name": "python3"
  },
  "language_info": {
   "codemirror_mode": {
    "name": "ipython",
    "version": 3
   },
   "file_extension": ".py",
   "mimetype": "text/x-python",
   "name": "python",
   "nbconvert_exporter": "python",
   "pygments_lexer": "ipython3",
   "version": "3.6.1"
  }
 },
 "nbformat": 4,
 "nbformat_minor": 2
}
