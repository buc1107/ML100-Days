{
 "cells": [
  {
   "cell_type": "markdown",
   "metadata": {},
   "source": [
    "## 練習時間"
   ]
  },
  {
   "cell_type": "markdown",
   "metadata": {},
   "source": [
    "請觀看李宏毅教授以神奇寶貝進化 CP 值預測的範例，解說何謂機器學習與過擬合。並回答以下問題"
   ]
  },
  {
   "cell_type": "code",
   "execution_count": 1,
   "metadata": {},
   "outputs": [
    {
     "data": {
      "image/jpeg": "[encoded data removed]",
      "text/html": [
       "\n",
       "        <iframe\n",
       "            width=\"720\"\n",
       "            height=\"480\"\n",
       "            src=\"https://www.youtube.com/embed/fegAeph9UaA\"\n",
       "            frameborder=\"0\"\n",
       "            allowfullscreen\n",
       "        ></iframe>\n",
       "        "
      ],
      "text/plain": [
       "<IPython.lib.display.YouTubeVideo at 0x25ddcf8de10>"
      ]
     },
     "execution_count": 1,
     "metadata": {},
     "output_type": "execute_result"
    }
   ],
   "source": [
    "from IPython.display import YouTubeVideo\n",
    "YouTubeVideo(\"fegAeph9UaA\", width=720, height=480)"
   ]
  },
  {
   "cell_type": "markdown",
   "metadata": {},
   "source": [
    "### 1. 模型的泛化能力 (generalization) 是指什麼？ \n",
    "\n",
    "ANS: The generalization ability of an algorithm to correctly estimate the answer of a new data. The algorithm can be a trained ML function, and if the function is incapable of presenting the estimation (testing) error close to the training error, this function is incapable of generalizing, or is overfitting. The generalization error is the estimation of the loss to when the function is applied to new data.\n",
    "\n",
    "### 2. 分類問題與回歸問題分別可用的目標函數有哪些？\n",
    "* 「機器學習中所有的算法都需要最大化或最小化一個函數，這個函數被稱為「目標函數」。需要被最小化的目標函數被稱為「損失函數」\n",
    "* 目標函數可為損失函數或損失函數+正則項，分為經驗風險最小化及結構風險最小化\n",
    "* 分類問題可用的目標函數\n",
    "\n",
    "\n",
    "1. Supervised Learning\n",
    "    $$min_{\\theta}\\frac{1}{l}\\sum_{i=1}^{l}{L(x_i,y_i;\\theta)}$$\n",
    "    $$max_{\\theta}\\prod_{i=1}^{l}{P(x_i;\\theta)}$$\n",
    "    $$max_{\\theta}\\sum_{i=1}^{l}{lnP(x_i;\\theta)}$$\n",
    "\n",
    "2. 二元分類問題可用的目標函數\n",
    "    感知機: 對於誤分類集M, $$L(w,b)=-\\sum_{x_i\\in M}{y_i\\left(wx_{i}+b\\right)}+\\lambda \\left|\\left|w\\right|\\right|^{2}$$\n",
    "    Logistic Regression: $$\\sum_{i=1}^{n}\\left[{y_i ln(h_\\theta (x_i))+(1-y_i)lg(1-h_\\theta (x_i))}\\right]+\\lambda \\left|\\left|w\\right|\\right|^{2}$$\n",
    "    SVM: 下標+表示只有正值才計入$$\\sum_{i=1}^{m}\\left[1-y_i \\left(wx_i +b\\right)\\right]_{+}+\\lambda \\left|\\left|w\\right|\\right|^{2}$$\n",
    "\n",
    "3. 多元分類問題可用的目標函數\n",
    "    決策樹:\n",
    "    Softmax: $$J(\\theta)=-\\frac{1}{m}\\sum_{i=1}^{m}\\sum_{j=1}^{k}1\\{y^{(i)}=j\\}\\log\\frac{e^{\\theta^T_j x^{(i)}}}{\\sum_{l=1}^{k}e^{\\theta^T_l x^{(i)}}}+\\lambda \\left|\\left|w\\right|\\right|^{2}$$\n",
    "    均方誤差: $$J(w)=\\frac{1}{n}\\sum_{i=1}^{n}\\left(y_i-f(x_i)\\right)^{2}=\\frac{1}{n}\\biggl|\\biggl|y-Xw\\biggl|\\biggl|^{2}+\\lambda \\left|\\left|w\\right|\\right|^{2}$$\n",
    "    線性判別分析(LDA): $$maxL(W)=\\frac{tr\\left(W^TS_BW\\right)}{tr\\left(W^TS_WW\\right)}+\\lambda \\left|\\left|w\\right|\\right|^{2}$$\n",
    "    決策樹:\n",
    "    GDBT:\n",
    "    \n",
    "4. 回歸問題可用的目標函數\n",
    "    binary/multi-calss classification: $$min\\sum_{i=1}^{l}\\frac{1}{2l}\\biggl|\\biggl|y_i-(w^Tx_i+b)\\biggl|\\biggl|^{2}+\\lambda \\left|\\left|w\\right|\\right|^{2}$$\n",
    "    決策樹:\n"
   ]
  },
  {
   "cell_type": "code",
   "execution_count": 1,
   "metadata": {
    "collapsed": true
   },
   "outputs": [],
   "source": [
    "import pandas as pd"
   ]
  },
  {
   "cell_type": "code",
   "execution_count": 2,
   "metadata": {
    "collapsed": true
   },
   "outputs": [],
   "source": [
    "electricity = pd.read_excel('../data/Folds5x2_pp.xlsx')"
   ]
  },
  {
   "cell_type": "code",
   "execution_count": 3,
   "metadata": {},
   "outputs": [
    {
     "data": {
      "text/html": [
       "<div>\n",
       "<style>\n",
       "    .dataframe thead tr:only-child th {\n",
       "        text-align: right;\n",
       "    }\n",
       "\n",
       "    .dataframe thead th {\n",
       "        text-align: left;\n",
       "    }\n",
       "\n",
       "    .dataframe tbody tr th {\n",
       "        vertical-align: top;\n",
       "    }\n",
       "</style>\n",
       "<table border=\"1\" class=\"dataframe\">\n",
       "  <thead>\n",
       "    <tr style=\"text-align: right;\">\n",
       "      <th></th>\n",
       "      <th>AT</th>\n",
       "      <th>V</th>\n",
       "      <th>AP</th>\n",
       "      <th>RH</th>\n",
       "      <th>PE</th>\n",
       "    </tr>\n",
       "  </thead>\n",
       "  <tbody>\n",
       "    <tr>\n",
       "      <th>0</th>\n",
       "      <td>14.96</td>\n",
       "      <td>41.76</td>\n",
       "      <td>1024.07</td>\n",
       "      <td>73.17</td>\n",
       "      <td>463.26</td>\n",
       "    </tr>\n",
       "    <tr>\n",
       "      <th>1</th>\n",
       "      <td>25.18</td>\n",
       "      <td>62.96</td>\n",
       "      <td>1020.04</td>\n",
       "      <td>59.08</td>\n",
       "      <td>444.37</td>\n",
       "    </tr>\n",
       "    <tr>\n",
       "      <th>2</th>\n",
       "      <td>5.11</td>\n",
       "      <td>39.40</td>\n",
       "      <td>1012.16</td>\n",
       "      <td>92.14</td>\n",
       "      <td>488.56</td>\n",
       "    </tr>\n",
       "    <tr>\n",
       "      <th>3</th>\n",
       "      <td>20.86</td>\n",
       "      <td>57.32</td>\n",
       "      <td>1010.24</td>\n",
       "      <td>76.64</td>\n",
       "      <td>446.48</td>\n",
       "    </tr>\n",
       "    <tr>\n",
       "      <th>4</th>\n",
       "      <td>10.82</td>\n",
       "      <td>37.50</td>\n",
       "      <td>1009.23</td>\n",
       "      <td>96.62</td>\n",
       "      <td>473.90</td>\n",
       "    </tr>\n",
       "  </tbody>\n",
       "</table>\n",
       "</div>"
      ],
      "text/plain": [
       "      AT      V       AP     RH      PE\n",
       "0  14.96  41.76  1024.07  73.17  463.26\n",
       "1  25.18  62.96  1020.04  59.08  444.37\n",
       "2   5.11  39.40  1012.16  92.14  488.56\n",
       "3  20.86  57.32  1010.24  76.64  446.48\n",
       "4  10.82  37.50  1009.23  96.62  473.90"
      ]
     },
     "execution_count": 3,
     "metadata": {},
     "output_type": "execute_result"
    }
   ],
   "source": [
    "electricity.head()"
   ]
  },
  {
   "cell_type": "code",
   "execution_count": 4,
   "metadata": {},
   "outputs": [
    {
     "data": {
      "text/html": [
       "<div>\n",
       "<style>\n",
       "    .dataframe thead tr:only-child th {\n",
       "        text-align: right;\n",
       "    }\n",
       "\n",
       "    .dataframe thead th {\n",
       "        text-align: left;\n",
       "    }\n",
       "\n",
       "    .dataframe tbody tr th {\n",
       "        vertical-align: top;\n",
       "    }\n",
       "</style>\n",
       "<table border=\"1\" class=\"dataframe\">\n",
       "  <thead>\n",
       "    <tr style=\"text-align: right;\">\n",
       "      <th></th>\n",
       "      <th>AT</th>\n",
       "      <th>V</th>\n",
       "      <th>AP</th>\n",
       "      <th>RH</th>\n",
       "      <th>PE</th>\n",
       "    </tr>\n",
       "  </thead>\n",
       "  <tbody>\n",
       "  </tbody>\n",
       "</table>\n",
       "</div>"
      ],
      "text/plain": [
       "Empty DataFrame\n",
       "Columns: [AT, V, AP, RH, PE]\n",
       "Index: []"
      ]
     },
     "execution_count": 4,
     "metadata": {},
     "output_type": "execute_result"
    }
   ],
   "source": [
    "electricity[electricity.isnull().values==True]"
   ]
  },
  {
   "cell_type": "code",
   "execution_count": 5,
   "metadata": {},
   "outputs": [
    {
     "name": "stdout",
     "output_type": "stream",
     "text": [
      "<class 'pandas.core.frame.DataFrame'>\n",
      "RangeIndex: 9568 entries, 0 to 9567\n",
      "Data columns (total 5 columns):\n",
      "AT    9568 non-null float64\n",
      "V     9568 non-null float64\n",
      "AP    9568 non-null float64\n",
      "RH    9568 non-null float64\n",
      "PE    9568 non-null float64\n",
      "dtypes: float64(5)\n",
      "memory usage: 373.8 KB\n",
      "None\n"
     ]
    }
   ],
   "source": [
    "print(electricity.info())"
   ]
  },
  {
   "cell_type": "code",
   "execution_count": 13,
   "metadata": {},
   "outputs": [],
   "source": [
    "train_sizes = [1, 100, 500, 2000, 5000, 7654]\n",
    "from sklearn.linear_model import LinearRegression\n",
    "from sklearn.model_selection import learning_curve\n",
    "features = ['AT', 'V', 'AP', 'RH']\n",
    "target = 'PE'\n",
    "train_sizes, train_scores, validation_scores = learning_curve(\n",
    "estimator = LinearRegression(), X = electricity[features],\n",
    "y = electricity[target], train_sizes = train_sizes, cv = 5,\n",
    "scoring = 'neg_mean_squared_error')"
   ]
  },
  {
   "cell_type": "code",
   "execution_count": 14,
   "metadata": {},
   "outputs": [
    {
     "name": "stdout",
     "output_type": "stream",
     "text": [
      "Training scores:nn [[ -0.          -0.          -0.          -0.          -0.        ]\n",
      " [-19.71230701 -18.31492642 -18.31492642 -18.31492642 -18.31492642]\n",
      " [-18.14420459 -19.63885072 -19.63885072 -19.63885072 -19.63885072]\n",
      " [-21.53603444 -20.18568787 -19.98317419 -19.98317419 -19.98317419]\n",
      " [-20.47708899 -19.93364211 -20.56091569 -20.4150839  -20.4150839 ]\n",
      " [-20.98565335 -20.63006094 -21.04384703 -20.63526811 -20.52955609]]\n",
      "n ----------------------------------------------------------------------\n",
      "nValidation scores:nn [[-619.30514723 -379.81090366 -374.4107861  -370.03037109 -373.30597982]\n",
      " [ -21.80224219  -23.01103419  -20.81350389  -22.88459236  -23.44955492]\n",
      " [ -19.96005238  -21.2771561   -19.75136596  -21.4325615   -21.89067652]\n",
      " [ -19.92863783  -21.35440062  -19.62974239  -21.38631648  -21.811031  ]\n",
      " [ -19.88806264  -21.3183303   -19.68228562  -21.35019525  -21.75949097]\n",
      " [ -19.9046791   -21.33448781  -19.67831137  -21.31935146  -21.73778949]]\n"
     ]
    }
   ],
   "source": [
    "print('Training scores:nn', train_scores)\n",
    "print('n', '-' * 70) # separator to make the output easy to read\n",
    "print('nValidation scores:nn', validation_scores)"
   ]
  },
  {
   "cell_type": "code",
   "execution_count": 15,
   "metadata": {},
   "outputs": [
    {
     "data": {
      "text/html": [
       "<div>\n",
       "<style>\n",
       "    .dataframe thead tr:only-child th {\n",
       "        text-align: right;\n",
       "    }\n",
       "\n",
       "    .dataframe thead th {\n",
       "        text-align: left;\n",
       "    }\n",
       "\n",
       "    .dataframe tbody tr th {\n",
       "        vertical-align: top;\n",
       "    }\n",
       "</style>\n",
       "<table border=\"1\" class=\"dataframe\">\n",
       "  <thead>\n",
       "    <tr style=\"text-align: right;\">\n",
       "      <th></th>\n",
       "      <th>0</th>\n",
       "      <th>1</th>\n",
       "      <th>2</th>\n",
       "      <th>3</th>\n",
       "      <th>4</th>\n",
       "    </tr>\n",
       "  </thead>\n",
       "  <tbody>\n",
       "    <tr>\n",
       "      <th>1</th>\n",
       "      <td>-0.000000</td>\n",
       "      <td>-0.000000</td>\n",
       "      <td>-0.000000</td>\n",
       "      <td>-0.000000</td>\n",
       "      <td>-0.000000</td>\n",
       "    </tr>\n",
       "    <tr>\n",
       "      <th>100</th>\n",
       "      <td>-19.712307</td>\n",
       "      <td>-18.314926</td>\n",
       "      <td>-18.314926</td>\n",
       "      <td>-18.314926</td>\n",
       "      <td>-18.314926</td>\n",
       "    </tr>\n",
       "    <tr>\n",
       "      <th>500</th>\n",
       "      <td>-18.144205</td>\n",
       "      <td>-19.638851</td>\n",
       "      <td>-19.638851</td>\n",
       "      <td>-19.638851</td>\n",
       "      <td>-19.638851</td>\n",
       "    </tr>\n",
       "    <tr>\n",
       "      <th>2000</th>\n",
       "      <td>-21.536034</td>\n",
       "      <td>-20.185688</td>\n",
       "      <td>-19.983174</td>\n",
       "      <td>-19.983174</td>\n",
       "      <td>-19.983174</td>\n",
       "    </tr>\n",
       "    <tr>\n",
       "      <th>5000</th>\n",
       "      <td>-20.477089</td>\n",
       "      <td>-19.933642</td>\n",
       "      <td>-20.560916</td>\n",
       "      <td>-20.415084</td>\n",
       "      <td>-20.415084</td>\n",
       "    </tr>\n",
       "    <tr>\n",
       "      <th>7654</th>\n",
       "      <td>-20.985653</td>\n",
       "      <td>-20.630061</td>\n",
       "      <td>-21.043847</td>\n",
       "      <td>-20.635268</td>\n",
       "      <td>-20.529556</td>\n",
       "    </tr>\n",
       "  </tbody>\n",
       "</table>\n",
       "</div>"
      ],
      "text/plain": [
       "              0          1          2          3          4\n",
       "1     -0.000000  -0.000000  -0.000000  -0.000000  -0.000000\n",
       "100  -19.712307 -18.314926 -18.314926 -18.314926 -18.314926\n",
       "500  -18.144205 -19.638851 -19.638851 -19.638851 -19.638851\n",
       "2000 -21.536034 -20.185688 -19.983174 -19.983174 -19.983174\n",
       "5000 -20.477089 -19.933642 -20.560916 -20.415084 -20.415084\n",
       "7654 -20.985653 -20.630061 -21.043847 -20.635268 -20.529556"
      ]
     },
     "execution_count": 15,
     "metadata": {},
     "output_type": "execute_result"
    }
   ],
   "source": [
    "pd_train_score = pd.DataFrame(data=train_scores, index=train_sizes)\n",
    "pd_train_score"
   ]
  },
  {
   "cell_type": "code",
   "execution_count": 16,
   "metadata": {},
   "outputs": [
    {
     "data": {
      "text/html": [
       "<div>\n",
       "<style>\n",
       "    .dataframe thead tr:only-child th {\n",
       "        text-align: right;\n",
       "    }\n",
       "\n",
       "    .dataframe thead th {\n",
       "        text-align: left;\n",
       "    }\n",
       "\n",
       "    .dataframe tbody tr th {\n",
       "        vertical-align: top;\n",
       "    }\n",
       "</style>\n",
       "<table border=\"1\" class=\"dataframe\">\n",
       "  <thead>\n",
       "    <tr style=\"text-align: right;\">\n",
       "      <th></th>\n",
       "      <th>0</th>\n",
       "      <th>1</th>\n",
       "      <th>2</th>\n",
       "      <th>3</th>\n",
       "      <th>4</th>\n",
       "    </tr>\n",
       "  </thead>\n",
       "  <tbody>\n",
       "    <tr>\n",
       "      <th>1</th>\n",
       "      <td>-619.305147</td>\n",
       "      <td>-379.810904</td>\n",
       "      <td>-374.410786</td>\n",
       "      <td>-370.030371</td>\n",
       "      <td>-373.305980</td>\n",
       "    </tr>\n",
       "    <tr>\n",
       "      <th>100</th>\n",
       "      <td>-21.802242</td>\n",
       "      <td>-23.011034</td>\n",
       "      <td>-20.813504</td>\n",
       "      <td>-22.884592</td>\n",
       "      <td>-23.449555</td>\n",
       "    </tr>\n",
       "    <tr>\n",
       "      <th>500</th>\n",
       "      <td>-19.960052</td>\n",
       "      <td>-21.277156</td>\n",
       "      <td>-19.751366</td>\n",
       "      <td>-21.432562</td>\n",
       "      <td>-21.890677</td>\n",
       "    </tr>\n",
       "    <tr>\n",
       "      <th>2000</th>\n",
       "      <td>-19.928638</td>\n",
       "      <td>-21.354401</td>\n",
       "      <td>-19.629742</td>\n",
       "      <td>-21.386316</td>\n",
       "      <td>-21.811031</td>\n",
       "    </tr>\n",
       "    <tr>\n",
       "      <th>5000</th>\n",
       "      <td>-19.888063</td>\n",
       "      <td>-21.318330</td>\n",
       "      <td>-19.682286</td>\n",
       "      <td>-21.350195</td>\n",
       "      <td>-21.759491</td>\n",
       "    </tr>\n",
       "    <tr>\n",
       "      <th>7654</th>\n",
       "      <td>-19.904679</td>\n",
       "      <td>-21.334488</td>\n",
       "      <td>-19.678311</td>\n",
       "      <td>-21.319351</td>\n",
       "      <td>-21.737789</td>\n",
       "    </tr>\n",
       "  </tbody>\n",
       "</table>\n",
       "</div>"
      ],
      "text/plain": [
       "               0           1           2           3           4\n",
       "1    -619.305147 -379.810904 -374.410786 -370.030371 -373.305980\n",
       "100   -21.802242  -23.011034  -20.813504  -22.884592  -23.449555\n",
       "500   -19.960052  -21.277156  -19.751366  -21.432562  -21.890677\n",
       "2000  -19.928638  -21.354401  -19.629742  -21.386316  -21.811031\n",
       "5000  -19.888063  -21.318330  -19.682286  -21.350195  -21.759491\n",
       "7654  -19.904679  -21.334488  -19.678311  -21.319351  -21.737789"
      ]
     },
     "execution_count": 16,
     "metadata": {},
     "output_type": "execute_result"
    }
   ],
   "source": [
    "pd_valid_score = pd.DataFrame(data=validation_scores, index=train_sizes)\n",
    "pd_valid_score"
   ]
  },
  {
   "cell_type": "code",
   "execution_count": 18,
   "metadata": {},
   "outputs": [
    {
     "name": "stdout",
     "output_type": "stream",
     "text": [
      "Mean training scoresnn 1       -0.000000\n",
      "100     18.594403\n",
      "500     19.339921\n",
      "2000    20.334249\n",
      "5000    20.360363\n",
      "7654    20.764877\n",
      "dtype: float64\n",
      "n --------------------\n"
     ]
    }
   ],
   "source": [
    "train_scores_mean = -train_scores.mean(axis = 1)\n",
    "validation_scores_mean = -validation_scores.mean(axis = 1)\n",
    "print('Mean training scoresnn', pd.Series(train_scores_mean, index = train_sizes))\n",
    "print('n', '-' * 20) # separatorprint('nMean validation scoresnn',pd.Series(validation_scores_mean, index = train_sizes))\n"
   ]
  },
  {
   "cell_type": "code",
   "execution_count": 19,
   "metadata": {},
   "outputs": [
    {
     "data": {
      "text/plain": [
       "(0, 40)"
      ]
     },
     "execution_count": 19,
     "metadata": {},
     "output_type": "execute_result"
    },
    {
     "data": {
      "image/png": "[encoded data removed]",
      "text/plain": [
       "<matplotlib.figure.Figure at 0x24c720cff98>"
      ]
     },
     "metadata": {},
     "output_type": "display_data"
    }
   ],
   "source": [
    "import matplotlib.pyplot as plt\n",
    "%matplotlib inline\n",
    "plt.style.use('seaborn')\n",
    "plt.plot(train_sizes, train_scores_mean, label = 'Training error')\n",
    "plt.plot(train_sizes, validation_scores_mean, label = 'Validation error')\n",
    "plt.ylabel('MSE', fontsize = 14)\n",
    "plt.xlabel('Training set size', fontsize = 14)\n",
    "plt.title('Learning curves for a linear regression model', fontsize = 18, y = 1.03)\n",
    "plt.legend()\n",
    "plt.ylim(0,40)"
   ]
  },
  {
   "cell_type": "code",
   "execution_count": null,
   "metadata": {
    "collapsed": true
   },
   "outputs": [],
   "source": []
  }
 ],
 "metadata": {
  "kernelspec": {
   "display_name": "Python 3",
   "language": "python",
   "name": "python3"
  },
  "language_info": {
   "codemirror_mode": {
    "name": "ipython",
    "version": 3
   },
   "file_extension": ".py",
   "mimetype": "text/x-python",
   "name": "python",
   "nbconvert_exporter": "python",
   "pygments_lexer": "ipython3",
   "version": "3.6.1"
  }
 },
 "nbformat": 4,
 "nbformat_minor": 2
}
