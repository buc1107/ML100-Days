{
 "cells": [
  {
   "cell_type": "code",
   "execution_count": 1,
   "metadata": {
    "collapsed": true
   },
   "outputs": [],
   "source": [
    "# Import 需要的套件\n",
    "import os\n",
    "import numpy as np\n",
    "import pandas as pd\n",
    "\n",
    "# 設定 data_path\n",
    "dir_data = './data/'"
   ]
  },
  {
   "cell_type": "code",
   "execution_count": 2,
   "metadata": {
    "collapsed": true
   },
   "outputs": [],
   "source": [
    "f_app_train = os.path.join(dir_data, 'application_train.csv')\n",
    "app_train = pd.read_csv(f_app_train)"
   ]
  },
  {
   "cell_type": "code",
   "execution_count": 3,
   "metadata": {
    "collapsed": true
   },
   "outputs": [],
   "source": [
    "import matplotlib.pyplot as plt\n",
    "%matplotlib inline"
   ]
  },
  {
   "cell_type": "markdown",
   "metadata": {},
   "source": [
    "## 練習時間"
   ]
  },
  {
   "cell_type": "markdown",
   "metadata": {},
   "source": [
    "觀察有興趣的欄位的資料分佈，並嘗試找出有趣的訊息\n",
    "#### Eg\n",
    "- 計算任意欄位的平均數及標準差\n",
    "- 畫出任意欄位的[直方圖](https://zh.wikipedia.org/zh-tw/%E7%9B%B4%E6%96%B9%E5%9B%BE)\n",
    "\n",
    "### Hints:\n",
    "- [Descriptive Statistics For pandas Dataframe](https://chrisalbon.com/python/data_wrangling/pandas_dataframe_descriptive_stats/)\n",
    "- [pandas 中的繪圖函數](https://amaozhao.gitbooks.io/pandas-notebook/content/pandas%E4%B8%AD%E7%9A%84%E7%BB%98%E5%9B%BE%E5%87%BD%E6%95%B0.html)\n"
   ]
  },
  {
   "cell_type": "code",
   "execution_count": 4,
   "metadata": {},
   "outputs": [
    {
     "name": "stdout",
     "output_type": "stream",
     "text": [
      "amt_income_total_mean =  168797.9192969845\n",
      "amt_income_total_var =  56227386501.174484\n"
     ]
    }
   ],
   "source": [
    "amt_income_total_mean = app_train['AMT_INCOME_TOTAL'].mean()\n",
    "amt_income_total_var = app_train['AMT_INCOME_TOTAL'].var()\n",
    "print(\"amt_income_total_mean = \",amt_income_total_mean)\n",
    "print(\"amt_income_total_var = \",amt_income_total_var)"
   ]
  },
  {
   "cell_type": "code",
   "execution_count": 5,
   "metadata": {
    "scrolled": false
   },
   "outputs": [
    {
     "data": {
      "text/plain": [
       "<matplotlib.axes._subplots.AxesSubplot at 0x1ddaac77b38>"
      ]
     },
     "execution_count": 5,
     "metadata": {},
     "output_type": "execute_result"
    },
    {
     "data": {
      "image/png": "[encoded data removed]",
      "text/plain": [
       "<matplotlib.figure.Figure at 0x1ddaac77160>"
      ]
     },
     "metadata": {},
     "output_type": "display_data"
    }
   ],
   "source": [
    "app_train['AMT_INCOME_TOTAL'].describe()\n",
    "app_train['AMT_INCOME_TOTAL'].plot(kind='hist',grid=True,bins=range(25000,1000000,25000))"
   ]
  },
  {
   "cell_type": "markdown",
   "metadata": {
    "collapsed": true
   },
   "source": [
    "# 課後練習"
   ]
  },
  {
   "cell_type": "markdown",
   "metadata": {},
   "source": [
    "## Panda DataFrame 的統計功能"
   ]
  },
  {
   "cell_type": "code",
   "execution_count": 6,
   "metadata": {
    "scrolled": false
   },
   "outputs": [
    {
     "name": "stdout",
     "output_type": "stream",
     "text": [
      "age.sum =  227\n",
      "age.mean =  45.4\n",
      "preTestScore.mean =  12.8\n",
      "preTestScore.cumsum = \n",
      " 0     4\n",
      "1    28\n",
      "2    59\n",
      "3    61\n",
      "4    64\n",
      "Name: preTestScore, dtype: int64\n",
      "postTestScore.max =  94\n",
      "postTestScore.min =  25\n",
      "postTestScore.median =  62.0\n",
      "postTestScore.var =  620.3\n",
      "postTestScore.std =  24.90582261239327\n",
      "postTestScore.skew =  -0.391615507734\n",
      "postTestScore.kurt =  1.42715055034\n",
      "name.count =  5\n",
      "\n",
      "correlation:\n",
      "                    age  preTestScore  postTestScore\n",
      "age            1.000000     -0.105651       0.328852\n",
      "preTestScore  -0.105651      1.000000       0.378039\n",
      "postTestScore  0.328852      0.378039       1.000000\n",
      "\n",
      "covariance:\n",
      "                  age  preTestScore  postTestScore\n",
      "age            340.80        -26.65         151.20\n",
      "preTestScore   -26.65        186.70         128.65\n",
      "postTestScore  151.20        128.65         620.30\n"
     ]
    }
   ],
   "source": [
    "import pandas as pd\n",
    "columns = ['name','age','preTestScore','postTestScore']\n",
    "nameList = ['Jason', 'Molly', 'Tina', 'Jake', 'Amy']\n",
    "ageList = [42, 52, 36, 24, 73];\n",
    "preTestScoreList = [4, 24, 31, 2, 3];\n",
    "postTestScoreLis = [25, 94, 57, 62, 70]\n",
    "dataList = [nameList,ageList,preTestScoreList,postTestScoreLis]\n",
    "if len(columns) != len(dataList):\n",
    "    #print(len(columns),\"!=\",len(dataList))\n",
    "    print(\"the size of \\\"columns\\\" must be equal to the size of \\\"dataList\\\"\",len(columns),\"!=\",len(dataList))\n",
    "\n",
    "data = {columns[i]:dataList[i] for i in range(len(columns))}\n",
    "#[print (item) for item in columns]\n",
    "\n",
    "#for dataitem in dataList:\n",
    "#    print (dataitem)\n",
    "\n",
    "# data2 = {'name':['Jason', 'Molly', 'Tina', 'Jake', 'Amy'],\n",
    "#         'age':[42, 52, 36, 24, 73],\n",
    "#         'preTestScore':[4, 24, 31, 2, 3],\n",
    "#         'postTestScore':[25, 94, 57, 62, 70]}\n",
    "df = pd.DataFrame(data,columns=list(data.keys()))\n",
    "\n",
    "print('age.sum = ',df['age'].sum())\n",
    "print('age.mean = ',df['age'].mean())\n",
    "print('preTestScore.mean = ',df['preTestScore'].mean())\n",
    "print('preTestScore.cumsum = \\n',df['preTestScore'].cumsum())\n",
    "print('postTestScore.max = ',df['postTestScore'].max())\n",
    "print('postTestScore.min = ',df['postTestScore'].min())\n",
    "print('postTestScore.median = ',df['postTestScore'].median())\n",
    "print('postTestScore.var = ',df['postTestScore'].var())\n",
    "print('postTestScore.std = ',df['postTestScore'].std())\n",
    "print('postTestScore.skew = ',df['postTestScore'].skew())\n",
    "print('postTestScore.kurt = ',df['postTestScore'].kurt())\n",
    "print('name.count = ',df['name'].count())\n",
    "print('\\ncorrelation:')\n",
    "print(df.corr())\n",
    "print('\\ncovariance:')\n",
    "print(df.cov())"
   ]
  },
  {
   "cell_type": "code",
   "execution_count": 7,
   "metadata": {},
   "outputs": [
    {
     "data": {
      "text/plain": [
       "count     5.000000\n",
       "mean     45.400000\n",
       "std      18.460769\n",
       "min      24.000000\n",
       "25%      36.000000\n",
       "50%      42.000000\n",
       "75%      52.000000\n",
       "max      73.000000\n",
       "Name: age, dtype: float64"
      ]
     },
     "execution_count": 7,
     "metadata": {},
     "output_type": "execute_result"
    }
   ],
   "source": [
    "df['age'].describe()"
   ]
  },
  {
   "cell_type": "code",
   "execution_count": 8,
   "metadata": {},
   "outputs": [
    {
     "data": {
      "text/plain": [
       "count     5.000000\n",
       "mean     12.800000\n",
       "std      13.663821\n",
       "min       2.000000\n",
       "25%       3.000000\n",
       "50%       4.000000\n",
       "75%      24.000000\n",
       "max      31.000000\n",
       "Name: preTestScore, dtype: float64"
      ]
     },
     "execution_count": 8,
     "metadata": {},
     "output_type": "execute_result"
    }
   ],
   "source": [
    "df['preTestScore'].describe()"
   ]
  },
  {
   "cell_type": "code",
   "execution_count": 9,
   "metadata": {},
   "outputs": [
    {
     "data": {
      "text/plain": [
       "count     5.000000\n",
       "mean     61.600000\n",
       "std      24.905823\n",
       "min      25.000000\n",
       "25%      57.000000\n",
       "50%      62.000000\n",
       "75%      70.000000\n",
       "max      94.000000\n",
       "Name: postTestScore, dtype: float64"
      ]
     },
     "execution_count": 9,
     "metadata": {},
     "output_type": "execute_result"
    }
   ],
   "source": [
    "df['postTestScore'].describe()"
   ]
  },
  {
   "cell_type": "code",
   "execution_count": 10,
   "metadata": {},
   "outputs": [
    {
     "name": "stdout",
     "output_type": "stream",
     "text": [
      "The person who improved the most: Molly, improved from 24 to 94\n"
     ]
    }
   ],
   "source": [
    "data2 = data\n",
    "data2['improve'] = [data2['postTestScore'][i]-data2['preTestScore'][i] for i in range(len(data2['postTestScore']))]\n",
    "df2 = pd.DataFrame(data2,columns=list(data2.keys()))\n",
    "\n",
    "#df2.iloc[df2['improve'].idxmax()]['name']\n",
    "df2.iloc[df2['improve'].idxmax()]\n",
    "print(\"The person who improved the most:\",df2.iloc[df2['improve'].idxmax()]['name']+\n",
    "      \", improved from\",df2.iloc[df2['improve'].idxmax()]['preTestScore'],\"to\",\n",
    "      df2.iloc[df2['improve'].idxmax()]['postTestScore'])"
   ]
  },
  {
   "cell_type": "code",
   "execution_count": 11,
   "metadata": {},
   "outputs": [
    {
     "data": {
      "text/plain": [
       "count     5.000000\n",
       "mean     48.800000\n",
       "std      23.445682\n",
       "min      21.000000\n",
       "25%      26.000000\n",
       "50%      60.000000\n",
       "75%      67.000000\n",
       "max      70.000000\n",
       "Name: improve, dtype: float64"
      ]
     },
     "execution_count": 11,
     "metadata": {},
     "output_type": "execute_result"
    }
   ],
   "source": [
    "df2['improve'].describe()"
   ]
  },
  {
   "cell_type": "markdown",
   "metadata": {},
   "source": [
    "### Skewness和Kurtosis的說明\n",
    "https://www.itl.nist.gov/div898/handbook/eda/section3/eda35b.htm"
   ]
  },
  {
   "cell_type": "markdown",
   "metadata": {
    "collapsed": true
   },
   "source": [
    "### Creating Histograms using Pandas\n",
    "https://community.modeanalytics.com/gallery/python_histogram/"
   ]
  },
  {
   "cell_type": "code",
   "execution_count": null,
   "metadata": {
    "collapsed": true
   },
   "outputs": [],
   "source": []
  }
 ],
 "metadata": {
  "kernelspec": {
   "display_name": "Python 3",
   "language": "python",
   "name": "python3"
  },
  "language_info": {
   "codemirror_mode": {
    "name": "ipython",
    "version": 3
   },
   "file_extension": ".py",
   "mimetype": "text/x-python",
   "name": "python",
   "nbconvert_exporter": "python",
   "pygments_lexer": "ipython3",
   "version": "3.6.1"
  }
 },
 "nbformat": 4,
 "nbformat_minor": 2
}
