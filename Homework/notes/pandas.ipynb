{
 "cells": [
  {
   "cell_type": "markdown",
   "metadata": {},
   "source": [
    "# Pandas Data Structure\n",
    "1. Series 欄位(一維度)\n",
    "2. DataFrame 表格（二維度）\n",
    "3. Panel 三維表格(除了特殊需求之外少使用… 略過)"
   ]
  },
  {
   "cell_type": "code",
   "execution_count": 1,
   "metadata": {
    "collapsed": true
   },
   "outputs": [],
   "source": [
    "import numpy as np\n",
    "import pandas as pd\n",
    "import matplotlib.pyplot as plt\n",
    "import seaborn as sns\n",
    "%matplotlib inline"
   ]
  },
  {
   "cell_type": "markdown",
   "metadata": {},
   "source": [
    "## Series\n",
    "* a one-dimentional labeled array holding any data types\n",
    "* data can be\n",
    "    1. a Python dict\n",
    "    2. an ndarray\n",
    "    3. a scalar value"
   ]
  },
  {
   "cell_type": "markdown",
   "metadata": {},
   "source": [
    "### Create a Series by loading a CSV file"
   ]
  },
  {
   "cell_type": "code",
   "execution_count": 2,
   "metadata": {},
   "outputs": [
    {
     "name": "stdout",
     "output_type": "stream",
     "text": [
      "[x.name] :  tag value\n",
      "[x.index] :  Index(['b', 'a', 'c', 'd'], dtype='object')\n",
      "[x.values] :  [ 1  0  2 -1]\n",
      "[x.index.name] :  None\n"
     ]
    }
   ],
   "source": [
    "x = pd.Series.from_csv('series_csv_load.csv',sep=',',parse_dates=False,header=0,index_col=0,encoding=None,infer_datetime_format=False)\n",
    "print(\"[x.name] : \",x.name)\n",
    "print(\"[x.index] : \",x.index)\n",
    "print(\"[x.values] : \",x.values)\n",
    "print(\"[x.index.name] : \",x.index.name)"
   ]
  },
  {
   "cell_type": "markdown",
   "metadata": {},
   "source": [
    "### Create a Series from an array\n",
    "* 可以用pd.Series.from_array\n",
    "* 也可以直接用pd.Series"
   ]
  },
  {
   "cell_type": "code",
   "execution_count": 3,
   "metadata": {},
   "outputs": [
    {
     "name": "stdout",
     "output_type": "stream",
     "text": [
      "[x] : \n",
      "0   -0.562424\n",
      "1    2.884208\n",
      "2    0.622474\n",
      "Name: HAHA, dtype: float64\n",
      "[x.name] :  HAHA\n",
      "[x.index] :  RangeIndex(start=0, stop=3, step=1)\n",
      "[x.values] :  [-0.56242376  2.88420825  0.62247403]\n",
      "[x.index.name] :  None\n",
      "\n",
      "\n",
      "[x2] : \n",
      "0    0.978773\n",
      "1    0.061640\n",
      "2    0.325072\n",
      "3   -0.066925\n",
      "Name: HAHA2, dtype: float64\n",
      "[x2.name] :  HAHA2\n",
      "[x2.index] :  RangeIndex(start=0, stop=4, step=1)\n",
      "[x2.values] :  [ 0.9787729   0.06163951  0.32507217 -0.06692539]\n",
      "[x2.index.name] :  None\n"
     ]
    }
   ],
   "source": [
    "x = pd.Series.from_array(np.random.randn(3),name='HAHA')\n",
    "print(\"[x] : \\n\"+str(x))\n",
    "print(\"[x.name] : \",x.name)\n",
    "print(\"[x.index] : \",x.index)\n",
    "print(\"[x.values] : \",x.values)\n",
    "print(\"[x.index.name] : \",x.index.name)\n",
    "print(\"\\n\")\n",
    "\n",
    "x2 = pd.Series(np.random.randn(4),name='HAHA2')\n",
    "print(\"[x2] : \\n\"+str(x2))\n",
    "print(\"[x2.name] : \",x2.name)\n",
    "print(\"[x2.index] : \",x2.index)\n",
    "print(\"[x2.values] : \",x2.values)\n",
    "print(\"[x2.index.name] : \",x2.index.name)"
   ]
  },
  {
   "cell_type": "markdown",
   "metadata": {},
   "source": [
    "### Create a Series from a Python dict"
   ]
  },
  {
   "cell_type": "code",
   "execution_count": 4,
   "metadata": {
    "scrolled": false
   },
   "outputs": [
    {
     "name": "stdout",
     "output_type": "stream",
     "text": [
      "a    0\n",
      "b    1\n",
      "c    2\n",
      "d   -1\n",
      "Name: Happy, dtype: int64\n",
      "x.name =  Happy\n",
      "x.ndim =  1\n",
      "x.index =  Index(['a', 'b', 'c', 'd'], dtype='object')\n",
      "x.index.name =  None\n"
     ]
    }
   ],
   "source": [
    "x = pd.Series({'b':1,'a':0,'c':2,'d':-1},name=\"Happy\")\n",
    "print(x)\n",
    "print(\"x.name = \",x.name)\n",
    "print(\"x.ndim = \",x.ndim)\n",
    "print(\"x.index = \",x.index)\n",
    "print(\"x.index.name = \",x.index.name)"
   ]
  },
  {
   "cell_type": "markdown",
   "metadata": {},
   "source": [
    "### Grouping Data\n",
    "* Series.groupby(by=None, axis=0, level=None, as_index=True, sort=True, group_keys=True, squeeze=False, observed=False, **kwargs)"
   ]
  },
  {
   "cell_type": "code",
   "execution_count": 5,
   "metadata": {},
   "outputs": [
    {
     "name": "stdout",
     "output_type": "stream",
     "text": [
      "x.name =  None\n",
      "x.ndim =  1\n",
      "x.index =  Index(['a', 'c', 'c', 'b', 'a', 'a', 'a', 'b', 'b', 'a'], dtype='object', name='index')\n",
      "x.values =  [-0.80741325  0.15087345  0.71245504  0.54908425  1.68680578  0.67600744\n",
      "  0.61152752  1.93716934 -0.74247396 -0.40476827]\n",
      "x.index.name =  index\n",
      "       count      mean       std       min       25%       50%       75%  \\\n",
      "index                                                                      \n",
      "a        5.0  0.352432  0.983740 -0.807413 -0.404768  0.611528  0.676007   \n",
      "b        3.0  0.581260  1.340111 -0.742474 -0.096695  0.549084  1.243127   \n",
      "c        2.0  0.431664  0.397098  0.150873  0.291269  0.431664  0.572060   \n",
      "\n",
      "            max  \n",
      "index            \n",
      "a      1.686806  \n",
      "b      1.937169  \n",
      "c      0.712455  \n",
      "\n",
      "index\n",
      "a    0.352432\n",
      "b    0.581260\n",
      "c    0.431664\n",
      "dtype: float64\n",
      "\n"
     ]
    }
   ],
   "source": [
    "import random\n",
    "del x\n",
    "key = []\n",
    "for i in range(10):\n",
    "    key += random.sample(['a','b','c'],1)\n",
    "x = pd.Series(np.random.randn(10),index = key)\n",
    "x.index.name = 'index'\n",
    "print(\"x.name = \",x.name)\n",
    "print(\"x.ndim = \",x.ndim)\n",
    "print(\"x.index = \",x.index)\n",
    "print(\"x.values = \",x.values)\n",
    "print(\"x.index.name = \",x.index.name)\n",
    "print(str(x.groupby('index').describe())+\"\\n\")\n",
    "print(str(x.groupby('index').mean())+\"\\n\")\n",
    "\n"
   ]
  },
  {
   "cell_type": "markdown",
   "metadata": {},
   "source": [
    "### Partly select data\n",
    "* iloc : 在index的位置上進行索引,不包括end. \n",
    "* loc : 在index的標籤上進行索引,範圍包括start和end. \n",
    "* ix : 先在index的標籤上索引，索引不到就在index的位置上索引(如果index非全整數),不包括end (即將移除)\n",
    "* xs : cross-section，在Series只能選單一個key的值，並且無法選axis=1"
   ]
  },
  {
   "cell_type": "code",
   "execution_count": 6,
   "metadata": {
    "scrolled": false
   },
   "outputs": [
    {
     "name": "stdout",
     "output_type": "stream",
     "text": [
      "------------------------------------------------\n",
      "for Series data : \n",
      "49    0\n",
      "48    1\n",
      "47    2\n",
      "46    3\n",
      "45    4\n",
      "1     5\n",
      "2     6\n",
      "3     7\n",
      "4     8\n",
      "5     9\n",
      "dtype: int32\n",
      "\n",
      "data.iloc[:3] => \n",
      "49    0\n",
      "48    1\n",
      "47    2\n",
      "dtype: int32\n",
      "\n",
      "data.loc[:3] => \n",
      "49    0\n",
      "48    1\n",
      "47    2\n",
      "46    3\n",
      "45    4\n",
      "1     5\n",
      "2     6\n",
      "3     7\n",
      "dtype: int32\n",
      "\n",
      "data.ix[:3] => \n",
      "49    0\n",
      "48    1\n",
      "47    2\n",
      "46    3\n",
      "45    4\n",
      "1     5\n",
      "2     6\n",
      "3     7\n",
      "dtype: int32\n",
      "\n",
      "------------------------------------------------\n",
      "for Series data : \n",
      "s49    0\n",
      "s48    1\n",
      "s47    2\n",
      "s46    3\n",
      "s45    4\n",
      "s1     5\n",
      "s2     6\n",
      "s3     7\n",
      "s4     8\n",
      "s5     9\n",
      "dtype: int32\n",
      "\n",
      "data.iloc[:3] => \n",
      "s49    0\n",
      "s48    1\n",
      "s47    2\n",
      "dtype: int32\n",
      "\n",
      "data.ix[:3] => \n",
      "s49    0\n",
      "s48    1\n",
      "s47    2\n",
      "dtype: int32\n",
      "\n",
      "data.ix[:'s3'] => \n",
      "s49    0\n",
      "s48    1\n",
      "s47    2\n",
      "s46    3\n",
      "s45    4\n",
      "s1     5\n",
      "s2     6\n",
      "s3     7\n",
      "dtype: int32\n",
      "\n",
      "[x]\n",
      "a    0\n",
      "b    1\n",
      "c    2\n",
      "d   -1\n",
      "Name: Happy, dtype: int64\n",
      "\n",
      "[x.xs['b']]\n",
      "1\n",
      "type(x.xs['b']) is <class 'numpy.int64'>\n",
      "\n"
     ]
    },
    {
     "name": "stderr",
     "output_type": "stream",
     "text": [
      "C:\\ProgramData\\Anaconda3\\lib\\site-packages\\ipykernel_launcher.py:6: DeprecationWarning: \n",
      ".ix is deprecated. Please use\n",
      ".loc for label based indexing or\n",
      ".iloc for positional indexing\n",
      "\n",
      "See the documentation here:\n",
      "http://pandas.pydata.org/pandas-docs/stable/indexing.html#deprecate_ix\n",
      "  \n",
      "C:\\ProgramData\\Anaconda3\\lib\\site-packages\\ipykernel_launcher.py:13: DeprecationWarning: \n",
      ".ix is deprecated. Please use\n",
      ".loc for label based indexing or\n",
      ".iloc for positional indexing\n",
      "\n",
      "See the documentation here:\n",
      "http://pandas.pydata.org/pandas-docs/stable/indexing.html#deprecate_ix\n",
      "  del sys.path[0]\n"
     ]
    }
   ],
   "source": [
    "data = pd.Series(np.arange(10), index=[49,48,47,46,45, 1, 2, 3, 4, 5])\n",
    "print(\"------------------------------------------------\")\n",
    "print(\"for Series data : \\n\"+str(data)+\"\\n\")\n",
    "print(\"data.iloc[:3] => \\n\"+str(data.iloc[:3])+\"\\n\")\n",
    "print(\"data.loc[:3] => \\n\"+str(data.loc[:3])+\"\\n\")\n",
    "print(\"data.ix[:3] => \\n\"+str(data.ix[:3])+\"\\n\")\n",
    "\n",
    "data = pd.Series(np.arange(10), index=['s49','s48','s47','s46','s45', 's1', 's2', 's3', 's4', 's5'])\n",
    "print(\"------------------------------------------------\")\n",
    "print(\"for Series data : \\n\"+str(data)+\"\\n\")\n",
    "print(\"data.iloc[:3] => \\n\"+str(data.iloc[:3])+\"\\n\")\n",
    "#print(\"data.loc[:3] => \\n\"+str(data.loc[:3])+\"\\n\")\n",
    "print(\"data.ix[:3] => \\n\"+str(data.ix[:3])+\"\\n\")\n",
    "print(\"data.ix[:'s3'] => \\n\"+str(data.ix[:'s3'])+\"\\n\")\n",
    "\n",
    "x = pd.Series({'b':1,'a':0,'c':2,'d':-1},name=\"Happy\")\n",
    "print('[x]\\n'+str(x)+\"\\n\")\n",
    "print('[x.xs[\\'b\\']]\\n'+str(x.xs('b')))\n",
    "print('type(x.xs[\\'b\\']) is '+str(type(x.xs('b')))+\"\\n\")"
   ]
  },
  {
   "cell_type": "markdown",
   "metadata": {},
   "source": [
    "### Add/Multiply/Divide two Series\n",
    "* x.add(y): addition = x.radd\n",
    "* x.sub(y): subtraction\n",
    "* x.subtract(y): subtraction\n",
    "* x.mul(y): multiplication\n",
    "* x.multiply(y): multiplication\n",
    "* x.div(y): division = x.rdiv\n",
    "* x.divide(y): division"
   ]
  },
  {
   "cell_type": "code",
   "execution_count": 7,
   "metadata": {
    "scrolled": false
   },
   "outputs": [
    {
     "name": "stdout",
     "output_type": "stream",
     "text": [
      "[x + y with the same keys: [x,y,x+y] = \n",
      "   Happy  Happy2  0\n",
      "a      0       1  1\n",
      "b      1       3  4\n",
      "c      2      -2  0\n",
      "d     -1       9  8\n",
      "\n",
      "[x + y with different keys]: [x,y,x+y] = \n",
      "    Happy  Happy2    0\n",
      "a     0.0     1.0  1.0\n",
      "b     1.0     NaN  NaN\n",
      "bb    NaN     3.0  NaN\n",
      "c     2.0    -2.0  0.0\n",
      "d    -1.0     9.0  8.0\n",
      "\n",
      "[x + y with different keys and fill_value]: [x,y,x+y] = \n",
      "    Happy  Happy2    0\n",
      "a     0.0     1.0  1.0\n",
      "b     1.0     NaN  2.0\n",
      "bb    NaN     3.0  4.0\n",
      "c     2.0    -2.0  0.0\n",
      "d    -1.0     9.0  8.0\n",
      "\n",
      "[x - y with the same keys: [x,y,x+y] = \n",
      "   Happy  Happy2   0\n",
      "a      0       1  -1\n",
      "b      1       3  -2\n",
      "c      2      -2   4\n",
      "d     -1       9 -10\n",
      "\n",
      "[x - y with different keys]: [x,y,x+y] = \n",
      "    Happy  Happy2     0\n",
      "a     0.0     1.0  -1.0\n",
      "b     1.0     NaN   NaN\n",
      "bb    NaN     3.0   NaN\n",
      "c     2.0    -2.0   4.0\n",
      "d    -1.0     9.0 -10.0\n",
      "\n",
      "[x - y with different keys and fill_value]: [x,y,x+y] = \n",
      "    Happy  Happy2     0\n",
      "a     0.0     1.0  -1.0\n",
      "b     1.0     NaN   0.0\n",
      "bb    NaN     3.0  -2.0\n",
      "c     2.0    -2.0   4.0\n",
      "d    -1.0     9.0 -10.0\n",
      "\n",
      "[x * y with the same keys]: [x,y,x*y] = \n",
      "   Happy  Happy2  0\n",
      "a      0       1  0\n",
      "b      1       3  3\n",
      "c      2      -2 -4\n",
      "d     -1       9 -9\n",
      "\n",
      "[x * y with different keys]: [x,y,x*y] \n",
      "    Happy  Happy2    0\n",
      "a     0.0     1.0  0.0\n",
      "b     1.0     NaN  NaN\n",
      "bb    NaN     3.0  NaN\n",
      "c     2.0    -2.0 -4.0\n",
      "d    -1.0     9.0 -9.0\n",
      "\n",
      "[x * y with different keys and fill_value]: [x,y,x*y] \n",
      "    Happy  Happy2    0\n",
      "a     0.0     1.0  0.0\n",
      "b     1.0     NaN  1.0\n",
      "bb    NaN     3.0  3.0\n",
      "c     2.0    -2.0 -4.0\n",
      "d    -1.0     9.0 -9.0\n",
      "\n",
      "[x,y,x.div(y)]\n",
      "     0    1    2\n",
      "a  1.0  1.0  1.0\n",
      "b  1.0  NaN  NaN\n",
      "c  1.0  NaN  NaN\n",
      "d  NaN  1.0  NaN\n",
      "e  NaN  NaN  NaN\n",
      "\n",
      "[x,y,x.divide(y) with fill_value]\n",
      "     0    1    2\n",
      "a  1.0  1.0  1.0\n",
      "b  1.0  NaN  1.0\n",
      "c  1.0  NaN  1.0\n",
      "d  NaN  1.0  1.0\n",
      "e  NaN  NaN  NaN\n"
     ]
    }
   ],
   "source": [
    "x = pd.Series({'b':1,'a':0,'c':2,'d':-1},name=\"Happy\")\n",
    "# y has the same keys\n",
    "y = pd.Series({'b':3,'a':1,'c':-2,'d':9},name=\"Happy2\")\n",
    "print(\"[x + y with the same keys: [x,y,x+y] = \\n\"+str(pd.concat([x,y,x.add(y)],axis=1))+\"\\n\")\n",
    "# y has the different keys\n",
    "y = pd.Series({'bb':3,'a':1,'c':-2,'d':9},name=\"Happy2\")\n",
    "print(\"[x + y with different keys]: [x,y,x+y] = \\n\"+str(pd.concat([x,y,x.add(y)],axis=1))+\"\\n\")\n",
    "print(\"[x + y with different keys and fill_value]: [x,y,x+y] = \\n\"+str(pd.concat([x,y,x.add(y,fill_value=True)],axis=1))+\"\\n\")\n",
    "y = pd.Series({'b':3,'a':1,'c':-2,'d':9},name=\"Happy2\")\n",
    "print(\"[x - y with the same keys: [x,y,x+y] = \\n\"+str(pd.concat([x,y,x.sub(y)],axis=1))+\"\\n\")\n",
    "# y has the different keys\n",
    "y = pd.Series({'bb':3,'a':1,'c':-2,'d':9},name=\"Happy2\")\n",
    "print(\"[x - y with different keys]: [x,y,x+y] = \\n\"+str(pd.concat([x,y,x.sub(y)],axis=1))+\"\\n\")\n",
    "print(\"[x - y with different keys and fill_value]: [x,y,x+y] = \\n\"+str(pd.concat([x,y,x.subtract(y,fill_value=True)],axis=1))+\"\\n\")\n",
    "y = pd.Series({'b':3,'a':1,'c':-2,'d':9},name=\"Happy2\")\n",
    "print(\"[x * y with the same keys]: [x,y,x*y] = \\n\"+str(pd.concat([x,y,x.mul(y)],axis=1))+\"\\n\")\n",
    "# y has the different keys\n",
    "y = pd.Series({'bb':3,'a':1,'c':-2,'d':9},name=\"Happy2\")\n",
    "print(\"[x * y with different keys]: [x,y,x*y] \\n\"+str(pd.concat([x,y,x.mul(y)],axis=1))+\"\\n\")\n",
    "print(\"[x * y with different keys and fill_value]: [x,y,x*y] \\n\"+str(pd.concat([x,y,x.multiply(y,fill_value=True)],axis=1))+\"\\n\")\n",
    "x = pd.Series([1, 1, 1, np.nan], index=['a', 'b', 'c', 'd'])\n",
    "y = pd.Series([1, np.nan, 1, np.nan], index=['a', 'b', 'd', 'e'])\n",
    "print(\"[x,y,x.div(y)]\\n\"+str(pd.concat([x,y,x.div(y)],axis=1))+\"\\n\")\n",
    "print(\"[x,y,x.divide(y) with fill_value]\\n\"+str(pd.concat([x,y,x.divide(y,fill_value=True)],axis=1)))"
   ]
  },
  {
   "cell_type": "markdown",
   "metadata": {},
   "source": [
    "### Divide two Series\n",
    "* pd.Series.div\n",
    "* pd.Series.divide\n",
    "* element wise division\n"
   ]
  },
  {
   "cell_type": "code",
   "execution_count": null,
   "metadata": {},
   "outputs": [],
   "source": []
  },
  {
   "cell_type": "markdown",
   "metadata": {},
   "source": [
    "### Append another Series to the existed one"
   ]
  },
  {
   "cell_type": "code",
   "execution_count": 8,
   "metadata": {},
   "outputs": [
    {
     "name": "stdout",
     "output_type": "stream",
     "text": [
      "x + y with the same keys: \n",
      "a    0\n",
      "b    1\n",
      "c    2\n",
      "d   -1\n",
      "a    1\n",
      "b    3\n",
      "c   -2\n",
      "d    9\n",
      "dtype: int64\n",
      "\n",
      "x + y with the same keys (ignore_index): \n",
      "0    0\n",
      "1    1\n",
      "2    2\n",
      "3   -1\n",
      "4    1\n",
      "5    3\n",
      "6   -2\n",
      "7    9\n",
      "dtype: int64\n",
      "\n",
      "x + y with the same keys (verify_integrity): \n",
      "failed\n",
      "\n",
      "x + y with different keys: \n",
      "a     0\n",
      "b     1\n",
      "c     2\n",
      "d    -1\n",
      "aa    1\n",
      "bb    3\n",
      "cc   -2\n",
      "dd    9\n",
      "dtype: int64\n",
      "\n",
      "x + y with different keys (ignore_index): \n",
      "0    0\n",
      "1    1\n",
      "2    2\n",
      "3   -1\n",
      "4    1\n",
      "5    3\n",
      "6   -2\n",
      "7    9\n",
      "dtype: int64\n",
      "\n",
      "x + y with different keys (verify_integrity): \n",
      "a     0\n",
      "b     1\n",
      "c     2\n",
      "d    -1\n",
      "aa    1\n",
      "bb    3\n",
      "cc   -2\n",
      "dd    9\n",
      "dtype: int64\n",
      "\n"
     ]
    }
   ],
   "source": [
    "x = pd.Series({'b':1,'a':0,'c':2,'d':-1},name=\"Happy\")\n",
    "y = pd.Series({'b':3,'a':1,'c':-2,'d':9},name=\"Happy2\")\n",
    "print(\"x + y with the same keys: \\n\"+str(x.append(y))+\"\\n\")\n",
    "print(\"x + y with the same keys (ignore_index): \\n\"+str(x.append(y,ignore_index=True))+\"\\n\")\n",
    "try:\n",
    "    print(\"x + y with the same keys (verify_integrity): \\n\"+str(x.append(y,verify_integrity=True))+\"\\n\")\n",
    "except:\n",
    "    print(\"x + y with the same keys (verify_integrity): \\n\"+\"failed\"+\"\\n\")\n",
    "\n",
    "# y has the different keys\n",
    "y = pd.Series({'bb':3,'aa':1,'cc':-2,'dd':9},name=\"Happy2\")\n",
    "print(\"x + y with different keys: \\n\"+str(x.append(y))+\"\\n\")\n",
    "print(\"x + y with different keys (ignore_index): \\n\"+str(x.append(y,ignore_index=True))+\"\\n\")\n",
    "try:\n",
    "    print(\"x + y with different keys (verify_integrity): \\n\"+str(x.append(y,verify_integrity=True))+\"\\n\")\n",
    "except:\n",
    "    print(\"x + y with different keys (verify_integrity): \\n\"+\"failed\"+\"\\n\")\n"
   ]
  },
  {
   "cell_type": "markdown",
   "metadata": {},
   "source": [
    "### 強制將Series裡的值cast資料型別"
   ]
  },
  {
   "cell_type": "code",
   "execution_count": 9,
   "metadata": {
    "scrolled": false
   },
   "outputs": [
    {
     "name": "stdout",
     "output_type": "stream",
     "text": [
      "original data type: \n",
      "a    0\n",
      "b    1\n",
      "c    2\n",
      "d   -1\n",
      "Name: Happy, dtype: int64\n",
      "\n",
      "[x.astype(int)]\n",
      "a    0\n",
      "b    1\n",
      "c    2\n",
      "d   -1\n",
      "Name: Happy, dtype: int32\n",
      "\n",
      "[x.astype(int64)]\n",
      "a    0\n",
      "b    1\n",
      "c    2\n",
      "d   -1\n",
      "Name: Happy, dtype: int64\n",
      "\n",
      "[x.astype('float64')]\n",
      "a    0.0\n",
      "b    1.0\n",
      "c    2.0\n",
      "d   -1.0\n",
      "Name: Happy, dtype: float64\n",
      "\n",
      "[x.astype(float)]\n",
      "a    0.0\n",
      "b    1.0\n",
      "c    2.0\n",
      "d   -1.0\n",
      "Name: Happy, dtype: float64\n",
      "\n",
      "[x.astype(np.float64)]\n",
      "a    0.0\n",
      "b    1.0\n",
      "c    2.0\n",
      "d   -1.0\n",
      "Name: Happy, dtype: float64\n",
      "\n",
      "[x.astype(str)]\n",
      "a     0\n",
      "b     1\n",
      "c     2\n",
      "d    -1\n",
      "Name: Happy, dtype: object\n",
      "\n"
     ]
    }
   ],
   "source": [
    "x = pd.Series({'b':1,'a':0,'c':2,'d':-1},name=\"Happy\")\n",
    "print(\"original data type: \\n\"+str(x)+\"\\n\")\n",
    "print('[x.astype(int)]\\n'+str(x.astype(int))+\"\\n\")\n",
    "print('[x.astype(int64)]\\n'+str(x.astype(np.int64))+\"\\n\")\n",
    "print('[x.astype(\\'float64\\')]\\n'+str(x.astype('float64'))+\"\\n\")\n",
    "print('[x.astype(float)]\\n'+str(x.astype(float))+\"\\n\")\n",
    "print('[x.astype(np.float64)]\\n'+str(x.astype(np.float64))+\"\\n\")\n",
    "print('[x.astype(str)]\\n'+str(x.astype(str))+\"\\n\")"
   ]
  },
  {
   "cell_type": "markdown",
   "metadata": {},
   "source": [
    "### 搜尋與取代值\n",
    "* replace"
   ]
  },
  {
   "cell_type": "code",
   "execution_count": 10,
   "metadata": {},
   "outputs": [
    {
     "name": "stdout",
     "output_type": "stream",
     "text": [
      "[x]\n",
      "0    10\n",
      "1    11\n",
      "2    12\n",
      "3    13\n",
      "4    14\n",
      "dtype: int64\n",
      "\n",
      "[x.replace(10,'R')]\n",
      "0     R\n",
      "1    11\n",
      "2    12\n",
      "3    13\n",
      "4    14\n",
      "dtype: object\n",
      "\n",
      "[x.replace([10],'R')]\n",
      "0     R\n",
      "1    11\n",
      "2    12\n",
      "3    13\n",
      "4    14\n",
      "dtype: object\n",
      "\n",
      "[x.replace([10,11],'R')]\n",
      "0     R\n",
      "1     R\n",
      "2    12\n",
      "3    13\n",
      "4    14\n",
      "dtype: object\n",
      "\n",
      "[x.replace([10,11],['R','R2'])]\n",
      "0     R\n",
      "1    R2\n",
      "2    12\n",
      "3    13\n",
      "4    14\n",
      "dtype: object\n",
      "\n",
      "[x.replace({10:'R'})]\n",
      "0     R\n",
      "1    11\n",
      "2    12\n",
      "3    13\n",
      "4    14\n",
      "dtype: object\n",
      "\n",
      "[x.replace({10:'R',14:99})]\n",
      "0     R\n",
      "1    11\n",
      "2    12\n",
      "3    13\n",
      "4    99\n",
      "dtype: object\n",
      "\n"
     ]
    }
   ],
   "source": [
    "x = pd.Series([10, 11, 12, 13, 14])\n",
    "print('[x]\\n'+str(x)+\"\\n\")\n",
    "print('[x.replace(10,\\'R\\')]\\n'+str(x.replace(10,'R'))+\"\\n\")\n",
    "print('[x.replace([10],\\'R\\')]\\n'+str(x.replace([10],'R'))+\"\\n\")\n",
    "print('[x.replace([10,11],\\'R\\')]\\n'+str(x.replace([10,11],'R'))+\"\\n\")\n",
    "print('[x.replace([10,11],[\\'R\\',\\'R2\\'])]\\n'+str(x.replace([10,11],['R','R2']))+\"\\n\")\n",
    "print('[x.replace({10:\\'R\\'})]\\n'+str(x.replace({10:'R'}))+\"\\n\")\n",
    "print('[x.replace({10:\\'R\\',14:99})]\\n'+str(x.replace({10:'R',14:99}))+\"\\n\")"
   ]
  },
  {
   "cell_type": "markdown",
   "metadata": {},
   "source": [
    "### where 和 mask\n",
    "* series.where(cond, other=nan, inplace=False, axis=None, level=None, errors='raise', try_cast=False, raise_on_error=None)\n",
    "    * 搜尋cond為真的欄位並保持原值，其餘用other (default為nan) 取代\n",
    "* series.mask(cond, other=nan, inplace=False, axis=None, level=None, errors='raise', try_cast=False, raise_on_error=None)\n",
    "    * 搜尋cond為真的欄位用other (default為nan) 取代，其餘保持原值"
   ]
  },
  {
   "cell_type": "code",
   "execution_count": 11,
   "metadata": {},
   "outputs": [
    {
     "name": "stdout",
     "output_type": "stream",
     "text": [
      "x:\n",
      "0   -2\n",
      "1   -1\n",
      "2    0\n",
      "3    1\n",
      "dtype: int32\n",
      "\n",
      "x.where(x > 0):\n",
      "0    NaN\n",
      "1    NaN\n",
      "2    NaN\n",
      "3    1.0\n",
      "dtype: float64\n",
      "\n",
      "x.where(x > 0, 999):\n",
      "0    999\n",
      "1    999\n",
      "2    999\n",
      "3      1\n",
      "dtype: int32\n",
      "\n",
      "x.mask(x > 0):\n",
      "0   -2.0\n",
      "1   -1.0\n",
      "2    0.0\n",
      "3    NaN\n",
      "dtype: float64\n",
      "\n",
      "x.mask(x > 0,999):\n",
      "0     -2\n",
      "1     -1\n",
      "2      0\n",
      "3    999\n",
      "dtype: int32\n",
      "\n"
     ]
    }
   ],
   "source": [
    "x = pd.Series(range(-2,2))\n",
    "print('x:\\n'+str(x)+\"\\n\")\n",
    "print('x.where(x > 0):\\n'+str(x.where(x>0))+\"\\n\")\n",
    "print('x.where(x > 0, 999):\\n'+str(x.where(x>0,999))+\"\\n\")\n",
    "print('x.mask(x > 0):\\n'+str(x.mask(x>0))+\"\\n\")\n",
    "print('x.mask(x > 0,999):\\n'+str(x.mask(x>0,999))+\"\\n\")"
   ]
  },
  {
   "cell_type": "markdown",
   "metadata": {},
   "source": [
    "### 使用function來處理Series值\n",
    "* transform\n",
    "* apply"
   ]
  },
  {
   "cell_type": "code",
   "execution_count": 12,
   "metadata": {},
   "outputs": [
    {
     "name": "stdout",
     "output_type": "stream",
     "text": [
      "[x]\n",
      "0   -2\n",
      "1   -1\n",
      "2    0\n",
      "3    1\n",
      "dtype: int32\n",
      "\n",
      "[x.apply(lambda x: x-10)]\n",
      "0   -12\n",
      "1   -11\n",
      "2   -10\n",
      "3    -9\n",
      "dtype: int64\n",
      "type(x.apply(lambda x: x-10)) is <class 'pandas.core.series.Series'>\n",
      "\n",
      "[x.transform(lambda x: x-10)]\n",
      "0   -12\n",
      "1   -11\n",
      "2   -10\n",
      "3    -9\n",
      "dtype: int64\n",
      "type(x.transform(lambda x: x-10)) is <class 'pandas.core.series.Series'>\n",
      "\n"
     ]
    }
   ],
   "source": [
    "print('[x]\\n'+str(x)+\"\\n\")\n",
    "print('[x.apply(lambda x: x-10)]\\n'+str(x.apply(lambda x: x-10)))\n",
    "print('type(x.apply(lambda x: x-10)) is '+str(type((x.apply(lambda x: x-10))))+\"\\n\")\n",
    "print('[x.transform(lambda x: x-10)]\\n'+str(x.transform(lambda x: x-10)))\n",
    "print('type(x.transform(lambda x: x-10)) is '+str(type(x.transform(lambda x: x-10)))+\"\\n\")"
   ]
  },
  {
   "cell_type": "markdown",
   "metadata": {},
   "source": [
    "### Kurtosis and Skewness 峰度與偏態\n",
    "* 自然界的許多特質之分配狀態都是呈常態分配，但非常態分配可以利用偏態與峰度二個指標來加以描述。偏態用來描述分配狀態是偏離平均數的程度；峰度用來描述分配狀態與常態分配來比較是較為高峻或平坦。偏態與峰度都是利用動差(moment)來計算。\n",
    "\n",
    "#### 峰度 Kurtosis\n",
    "* Series.kurt(axis=None, skipna=None, level=None, numeric_only=None, **kwargs)\n",
    "* Series.kurtosis(axis=None, skipna=None, level=None, numeric_only=None, **kwargs)\n",
    "    1. 峰度值 > 0，為高狹峰，較常態分配來得高瘦。\n",
    "    2. 峰度值 = 0，為常態峰。\n",
    "    3. 峰度值 < 0，為低闊峰，較常態分配來得低寬。\n",
    "    \n",
    "#### 偏態 Skewness\n",
    "* Series.skew(axis=None, skipna=None, level=None, numeric_only=None, **kwargs)\n",
    "    1. 偏態值 > 0，為正偏態，分配集中在平均數以下，低分群的個體較多。\n",
    "    2. 偏態值 = 0，為平均數左右對稱的分配，平均數上下的個體數相等。\n",
    "    3. 偏態值 < 0，為負偏態，分配集中在平均數以上，高分群的個體較多。"
   ]
  },
  {
   "cell_type": "code",
   "execution_count": 13,
   "metadata": {
    "scrolled": false
   },
   "outputs": [
    {
     "name": "stdout",
     "output_type": "stream",
     "text": [
      "x.kurtosis() =  -0.0133503326289\n",
      "x.skew() =  -0.022111710378\n",
      "y.kurtosis() =  -0.631212985352\n",
      "y.skew() =  -0.025794807235\n",
      "z.kurtosis() =  0.500051303342\n",
      "z.skew() =  -0.782160133751\n"
     ]
    },
    {
     "data": {
      "image/png": "[encoded data removed]",
      "text/plain": [
       "<matplotlib.figure.Figure at 0x20e4485f240>"
      ]
     },
     "metadata": {},
     "output_type": "display_data"
    },
    {
     "data": {
      "image/png": "[encoded data removed]",
      "text/plain": [
       "<matplotlib.figure.Figure at 0x20e448436a0>"
      ]
     },
     "metadata": {},
     "output_type": "display_data"
    },
    {
     "data": {
      "image/png": "[encoded data removed]",
      "text/plain": [
       "<matplotlib.figure.Figure at 0x20e449e1ba8>"
      ]
     },
     "metadata": {},
     "output_type": "display_data"
    }
   ],
   "source": [
    "import math\n",
    "x = np.random.randn(10000)\n",
    "# for i in range(len(x)):\n",
    "#     x[i] = math.ceil(x[i])\n",
    "x = pd.Series(x).sort_values()\n",
    "#print('x = \\n'+str(x))\n",
    "plt.figure()\n",
    "sns.kdeplot(x)\n",
    "print('x.kurtosis() = ',x.kurtosis())\n",
    "print('x.skew() = ',x.skew())\n",
    "\n",
    "y = x.copy()\n",
    "y[abs(y)<0.3] *= 5\n",
    "plt.figure()\n",
    "sns.kdeplot(y)\n",
    "print('y.kurtosis() = ',y.kurtosis())\n",
    "print('y.skew() = ',y.skew())\n",
    "\n",
    "z = x.copy()\n",
    "z[z<0] *= 2\n",
    "plt.figure()\n",
    "sns.kdeplot(z)\n",
    "print('z.kurtosis() = ',z.kurtosis())\n",
    "print('z.skew() = ',z.skew())"
   ]
  },
  {
   "cell_type": "markdown",
   "metadata": {},
   "source": [
    "### 輸出資料\n",
    "* to_csv\n",
    "* to_dict\n",
    "* to_excel\n",
    "* to_frame\n",
    "* to_string\n",
    "* tolist"
   ]
  },
  {
   "cell_type": "code",
   "execution_count": 14,
   "metadata": {},
   "outputs": [
    {
     "name": "stdout",
     "output_type": "stream",
     "text": [
      "[x]\n",
      "xindex\n",
      "a    0\n",
      "b    1\n",
      "c    2\n",
      "d   -1\n",
      "Name: Happy, dtype: int64\n",
      "\n",
      "[x.to_csv()] : None\n",
      "[x.to_csv()] : None\n",
      "[x.to_excel()] : None\n",
      "[x.to_excel()] : None\n",
      "[x.to_dict()] : {'a': 0, 'b': 1, 'c': 2, 'd': -1}\n",
      "\n",
      "[x.to_frame()]\n",
      "        Happy\n",
      "xindex       \n",
      "a           0\n",
      "b           1\n",
      "c           2\n",
      "d          -1\n",
      "\n",
      "[x.to_string()]\n",
      "xindex\n",
      "a    0\n",
      "b    1\n",
      "c    2\n",
      "d   -1\n",
      "type(x.to_string()) is<class 'str'>\n",
      "\n",
      "[x.tolist()] : [0, 1, 2, -1]\n",
      "type(x.tolist()) is<class 'list'>\n",
      "\n"
     ]
    }
   ],
   "source": [
    "x = pd.Series({'b':1,'a':0,'c':2,'d':-1},name=\"Happy\")\n",
    "x.index.name = 'xindex'\n",
    "print('[x]\\n'+str(x)+\"\\n\")\n",
    "print('[x.to_csv()] : '+str(x.to_csv(\"output_to_csv.csv\")))\n",
    "print('[x.to_csv()] : '+str(x.to_csv(\"output_to_csv2.csv\",header=True)))\n",
    "print('[x.to_excel()] : '+str(x.to_excel(\"output_to_csv.xlsx\",header=False)))\n",
    "print('[x.to_excel()] : '+str(x.to_excel(\"output_to_csv2.xlsx\",header=True)))\n",
    "print('[x.to_dict()] : '+str(x.to_dict())+\"\\n\")\n",
    "print('[x.to_frame()]\\n'+str(x.to_frame())+\"\\n\")\n",
    "print('[x.to_string()]\\n'+x.to_string())\n",
    "print('type(x.to_string()) is'+str(type(x.to_string()))+\"\\n\")\n",
    "print('[x.tolist()] : '+str(x.tolist()))\n",
    "print('type(x.tolist()) is'+str(type(x.tolist()))+\"\\n\")"
   ]
  },
  {
   "cell_type": "markdown",
   "metadata": {},
   "source": [
    "### 繪圖\n",
    "* plot\n",
    "* hist"
   ]
  },
  {
   "cell_type": "code",
   "execution_count": 15,
   "metadata": {},
   "outputs": [
    {
     "data": {
      "text/plain": [
       "<matplotlib.axes._subplots.AxesSubplot at 0x20e447687f0>"
      ]
     },
     "execution_count": 15,
     "metadata": {},
     "output_type": "execute_result"
    },
    {
     "data": {
      "image/png": "[encoded data removed]",
      "text/plain": [
       "<matplotlib.figure.Figure at 0x20e44790438>"
      ]
     },
     "metadata": {},
     "output_type": "display_data"
    },
    {
     "data": {
      "image/png": "[encoded data removed]",
      "text/plain": [
       "<matplotlib.figure.Figure at 0x20e44790208>"
      ]
     },
     "metadata": {},
     "output_type": "display_data"
    },
    {
     "data": {
      "image/png": "[encoded data removed]",
      "text/plain": [
       "<matplotlib.figure.Figure at 0x20e460248d0>"
      ]
     },
     "metadata": {},
     "output_type": "display_data"
    },
    {
     "data": {
      "image/png": "[encoded data removed]",
      "text/plain": [
       "<matplotlib.figure.Figure at 0x20e4604b390>"
      ]
     },
     "metadata": {},
     "output_type": "display_data"
    },
    {
     "data": {
      "image/png": "[encoded data removed]",
      "text/plain": [
       "<matplotlib.figure.Figure at 0x20e44d3c128>"
      ]
     },
     "metadata": {},
     "output_type": "display_data"
    }
   ],
   "source": [
    "x = pd.Series({'b':1,'a':0,'c':2,'d':-1},name=\"Happy\")\n",
    "plt.figure()\n",
    "x.plot()\n",
    "\n",
    "x = pd.Series(np.random.randn(100000)*100,name=\"Happy\")\n",
    "plt.figure()\n",
    "x.hist(bins=10)\n",
    "plt.figure()\n",
    "x.hist(bins=50)\n",
    "plt.figure()\n",
    "x.hist(bins=100)\n",
    "plt.figure()\n",
    "x.hist(bins=1000)\n",
    "\n",
    "\n",
    "#print('\\nx.hist                      =\\n', x.hist                    )   \n",
    "#print('\\nx.plot                      =\\n', x.plot                    )   \n"
   ]
  },
  {
   "cell_type": "markdown",
   "metadata": {},
   "source": [
    "### Series 數值處理\n",
    "* abs()\n",
    "* copy()\n",
    "* corr(other) : 計算correlation, other為另一Series, igonre missing values\n",
    "* cov(other) : 計算covariance, other為另一Series, igonre missing values\n",
    "* cumsum(): 計算cumulative sum\n",
    "* describe(): 描述統計特性\n",
    "* count(): 計算value數量\n",
    "* mean(): 計算mean值\n",
    "* std(): 計算standard variation值\n",
    "* var(): variance值\n",
    "* min(): 計算min值\n",
    "* max(): 計算max值\n",
    "* max(): 計算sum值\n",
    "* dot(other): 計算內積\n",
    "* product/prod: 計算vector值的乘積\n",
    "* drop('key'): drop掉某個key及值\n",
    "* dropna(): drop掉nan\n",
    "* get_value('key'): return 該欄位的值\n",
    "* get_values(): return np.ndarray\n",
    "* isin([list of values]): return boolean Series\n",
    "* isnull(): return boolean Series if null\n",
    "* sort_values(): 依照值排列\n",
    "* sort_index(): 依照index排列\n",
    "* rank(): 在軸上看有幾個相異值\n",
    "* ravel(): 將data的部份以ndarry回傳\n",
    "* argsort() : 將value做sorting，並將sorting後的排名 (0開始) 放於data欄位上\n",
    "* sample(n) : 從Series任選n個sample出來, return a Series object\n",
    "* unique() : data中不重複的值，return ndarray\n",
    "* transpose() : transpose, by definition itself"
   ]
  },
  {
   "cell_type": "code",
   "execution_count": 16,
   "metadata": {
    "scrolled": false
   },
   "outputs": [
    {
     "name": "stdout",
     "output_type": "stream",
     "text": [
      "[x.abs()]\n",
      "a    0\n",
      "b    1\n",
      "c    2\n",
      "d    1\n",
      "Name: Happy, dtype: int64\n",
      "\n",
      "[y=x.copy()]\n",
      "a    0\n",
      "b    1\n",
      "c    2\n",
      "d   -1\n",
      "Name: Happy, dtype: int64\n",
      "\n",
      "[x.corr(y)] : 0.948683298051\n",
      "\n",
      "[x.cov()] : 1.0\n",
      "\n",
      "[concat x and y]\n",
      "   Happy  Happy2\n",
      "a      0       1\n",
      "b      1       1\n",
      "c      2       2\n",
      "d     -1       0\n",
      "\n",
      "type(concat x and y)\n",
      "<class 'pandas.core.frame.DataFrame'>\n",
      "\n",
      "[x.cumsum()]\n",
      "a    0\n",
      "b    1\n",
      "c    3\n",
      "d    2\n",
      "Name: Happy, dtype: int64\n",
      "\n",
      "[x.describe()]\n",
      "count    4.000000\n",
      "mean     0.500000\n",
      "std      1.290994\n",
      "min     -1.000000\n",
      "25%     -0.250000\n",
      "50%      0.500000\n",
      "75%      1.250000\n",
      "max      2.000000\n",
      "Name: Happy, dtype: float64\n",
      "\n",
      "[x.count()] : 4\n",
      "\n",
      "[x.median()] : 0.5\n",
      "\n",
      "[x.mean()] : 0.5\n",
      "\n",
      "[x.std()] : 1.2909944487358056\n",
      "\n",
      "[x.var()] : 1.6666666666666667\n",
      "\n",
      "[x.min()] : -1\n",
      "\n",
      "[x.max()] : 2\n",
      "\n",
      "[x.sum()] : 2\n",
      "\n",
      "[x.dot(y)] : 5 where \n",
      "   Happy  Happy2\n",
      "a      0       1\n",
      "b      1       1\n",
      "c      2       2\n",
      "d     -1       0\n",
      "\n",
      "[[1,2,3,4].product()] : 24\n",
      "\n",
      "[[1,np.nan,3,4].product()] : 12.0\n",
      "\n",
      "[x.drop('a')]\n",
      "b    1\n",
      "c    2\n",
      "d   -1\n",
      "Name: Happy, dtype: int64\n",
      "\n",
      "[[1,np.nan,3,4].dropna()]\n",
      "0    1.0\n",
      "2    3.0\n",
      "3    4.0\n",
      "dtype: float64\n",
      "\n",
      "[x.get_value('a')] : 0 with type <class 'numpy.int64'>\n",
      "\n",
      "[x.get_values()] : [ 0  1  2 -1] with type <class 'numpy.ndarray'>\n",
      "\n",
      "[x.isin([-1])]:\n",
      "a    False\n",
      "b    False\n",
      "c    False\n",
      "d     True\n",
      "Name: Happy, dtype: bool\n",
      "\n",
      "[x.isin([1,-1])]\n",
      "a    False\n",
      "b     True\n",
      "c    False\n",
      "d     True\n",
      "Name: Happy, dtype: bool\n",
      "\n",
      "[type(x.isin([1,-1]))]\n",
      "<class 'pandas.core.series.Series'>\n",
      "\n",
      "[x.isnull()]\n",
      "a    False\n",
      "b    False\n",
      "c    False\n",
      "d    False\n",
      "Name: Happy, dtype: bool\n",
      "\n",
      "type(x.isnull()) is <class 'pandas.core.series.Series'>\n",
      "\n",
      "[x.sort_values()]\n",
      "d   -1\n",
      "a    0\n",
      "b    1\n",
      "c    2\n",
      "Name: Happy, dtype: int64\n",
      "\n",
      "type(x.sort_values()) is <class 'pandas.core.series.Series'>\n",
      "\n",
      "[x.sort_index()]\n",
      "a    0\n",
      "b    1\n",
      "c    2\n",
      "d   -1\n",
      "Name: Happy, dtype: int64\n",
      "\n",
      "type(x.sort_index()) is <class 'pandas.core.series.Series'>\n",
      "\n",
      "[x.rank()]\n",
      "a    2.0\n",
      "b    3.0\n",
      "c    4.0\n",
      "d    1.0\n",
      "Name: Happy, dtype: float64\n",
      "type(x.rank()) is <class 'pandas.core.series.Series'>\n",
      "\n",
      "[[1,2,3,4].rank()]\n",
      "0    1.0\n",
      "1    2.0\n",
      "2    3.0\n",
      "3    4.0\n",
      "dtype: float64\n",
      "\n",
      "[[1,1,1,1].rank()]\n",
      "0    2.5\n",
      "1    2.5\n",
      "2    2.5\n",
      "3    2.5\n",
      "dtype: float64\n",
      "\n",
      "[[1,1,4,4].rank()]\n",
      "0    1.5\n",
      "1    1.5\n",
      "2    3.5\n",
      "3    3.5\n",
      "dtype: float64\n",
      "\n",
      "[x.ravle()]\n",
      "[ 0  1  2 -1]\n",
      "type(x.ravle()) is <class 'numpy.ndarray'>\n",
      "\n",
      "[x,x.argsort()]\n",
      "   Happy  Happy\n",
      "a      0      3\n",
      "b      1      0\n",
      "c      2      1\n",
      "d     -1      2\n",
      "\n",
      "[x.sample(n=3)]\n",
      "b    1\n",
      "c    2\n",
      "d   -1\n",
      "Name: Happy, dtype: int64\n",
      "type(x.sample(n=3)) is <class 'pandas.core.series.Series'>\n",
      "\n",
      "[[0,1,2,3].unique()]\n",
      "[0 1 2 3]\n",
      "type([0,1,2,3].unique()) is <class 'numpy.ndarray'>\n",
      "\n",
      "[[1,1,2,3].unique()]\n",
      "[1 2 3]\n",
      "\n",
      "[['a','b','c','d'].transpose()]\n",
      "0    a\n",
      "1    b\n",
      "2    c\n",
      "3    d\n",
      "dtype: object\n",
      "type(['a','b','c','d'].transpose()) is <class 'pandas.core.series.Series'>\n",
      "\n"
     ]
    }
   ],
   "source": [
    "x = pd.Series({'b':1,'a':0,'c':2,'d':-1},name=\"Happy\")\n",
    "y = pd.Series({'b':3,'a':1,'c':-2,'d':9},name=\"Happy2\")\n",
    "print('[x.abs()]\\n'+str(x.abs())+\"\\n\")\n",
    "y=x.copy()\n",
    "print('[y=x.copy()]\\n'+str(y)+\"\\n\")\n",
    "\n",
    "y=x.copy()+np.random.randint(2,size=x.shape)\n",
    "y.name=\"Happy2\"\n",
    "\n",
    "print('[x.corr(y)] : '+str(x.corr(y))+\"\\n\")\n",
    "print('[x.cov()] : '+str(x.cov(y))+\"\\n\")\n",
    "\n",
    "print('[concat x and y]\\n'+str(pd.concat([x,y],axis=1))+\"\\n\")\n",
    "print('type(concat x and y)\\n'+str(type(pd.concat([x,y],axis=1)))+\"\\n\")\n",
    "\n",
    "print('[x.cumsum()]\\n'+str(x.cumsum())+\"\\n\")\n",
    "\n",
    "print('[x.describe()]\\n'+str(x.describe())+'\\n') \n",
    "print('[x.count()] : '+str(x.count())+'\\n') \n",
    "print('[x.median()] : '+str(x.median())+'\\n') \n",
    "print('[x.mean()] : '+str(x.mean())+'\\n') \n",
    "print('[x.std()] : '+str(x.std())+'\\n') \n",
    "print('[x.var()] : '+str(x.var())+'\\n')\n",
    "print('[x.min()] : '+str(x.min())+'\\n') \n",
    "print('[x.max()] : '+str(x.max())+'\\n') \n",
    "print('[x.sum()] : '+str(x.sum())+'\\n') \n",
    "print('[x.dot(y)] : '+str(x.dot(y))+' where \\n'+str(pd.concat([x,y],axis=1))+\"\\n\")\n",
    "print('[[1,2,3,4].product()] : '+str(pd.Series(data=[1,2,3,4]).product())+\"\\n\")\n",
    "print('[[1,np.nan,3,4].product()] : '+str(pd.Series(data=[1,np.nan,3,4]).product())+\"\\n\")\n",
    "print('[x.drop(\\'a\\')]\\n'+str(x.drop('a'))+\"\\n\")\n",
    "print('[[1,np.nan,3,4].dropna()]\\n'+str(pd.Series(data=[1,np.nan,3,4]).dropna())+\"\\n\")\n",
    "print('[x.get_value(\\'a\\')] : '+str(x.get_value('a'))+' with type '+str(type(x.get_value('a')))+'\\n') \n",
    "print('[x.get_values()] : '+str(x.get_values())+' with type '+str(type(x.get_values()))+'\\n') \n",
    "print('[x.isin([-1])]:\\n'+str(x.isin([-1]))+\"\\n\")  \n",
    "print('[x.isin([1,-1])]\\n'+str(x.isin([1,-1]))+\"\\n\")\n",
    "print('[type(x.isin([1,-1]))]\\n'+str(type(x.isin([1,-1])))+\"\\n\")\n",
    "print('[x.isnull()]\\n'+str(x.isnull())+\"\\n\")\n",
    "print('type(x.isnull()) is '+str(type(x.isnull()))+\"\\n\")\n",
    "\n",
    "print('[x.sort_values()]\\n'+str(x.sort_values())+\"\\n\")\n",
    "print('type(x.sort_values()) is '+str(type(x.sort_values()))+\"\\n\")\n",
    "\n",
    "print('[x.sort_index()]\\n'+str(x.sort_index())+\"\\n\")\n",
    "print('type(x.sort_index()) is '+str(type(x.sort_index()))+\"\\n\")\n",
    "\n",
    "print('[x.rank()]\\n'+str(x.rank()))\n",
    "print('type(x.rank()) is '+str(type(x.rank()))+\"\\n\")\n",
    "\n",
    "print('[[1,2,3,4].rank()]\\n'+str(pd.Series([1,2,3,4]).rank())+\"\\n\")\n",
    "print('[[1,1,1,1].rank()]\\n'+str(pd.Series([1,1,1,1]).rank())+\"\\n\")\n",
    "print('[[1,1,4,4].rank()]\\n'+str(pd.Series([1,1,4,4]).rank())+\"\\n\")\n",
    "print('[x.ravle()]\\n'+str(x.ravel()))\n",
    "print('type(x.ravle()) is '+str(type(x.ravel()))+'\\n')\n",
    "\n",
    "print('[x,x.argsort()]\\n'+str(pd.concat([x,x.argsort()],axis=1))+'\\n')\n",
    "\n",
    "print('[x.sample(n=3)]\\n'+str(x.sample(n=3)))\n",
    "print('type(x.sample(n=3)) is '+str(type(x.sample(n=3)))+'\\n')\n",
    "\n",
    "print('[[0,1,2,3].unique()]\\n'+str(pd.Series([0,1,2,3]).unique()))\n",
    "print('type([0,1,2,3].unique()) is '+str(type(pd.Series([0,1,2,3]).unique()))+'\\n')\n",
    "\n",
    "print('[[1,1,2,3].unique()]\\n'+str(pd.Series([1,1,2,3]).unique())+\"\\n\")\n",
    "\n",
    "print('[[\\'a\\',\\'b\\',\\'c\\',\\'d\\'].transpose()]\\n'+str(pd.Series(['a','b','c','d']).transpose()))\n",
    "print('type([\\'a\\',\\'b\\',\\'c\\',\\'d\\'].transpose()) is '+str(type(pd.Series(['a','b','c','d']).transpose()))+'\\n')\n"
   ]
  },
  {
   "cell_type": "code",
   "execution_count": null,
   "metadata": {},
   "outputs": [],
   "source": []
  },
  {
   "cell_type": "markdown",
   "metadata": {},
   "source": [
    "### Series Key (index)處理\n",
    "* app_prefix(str) : add str為key的前綴\n",
    "* add_suffix(str) : add str為key的後綴\n",
    "* argmax() : 最大值的key\n",
    "* argmin() : 最小值的key\n",
    "* head(int) : 顯示頭N行\n",
    "* tail(int) : 顯示末N行\n",
    "* reset_index() : 將原本的index欄位變成data欄位，並新增index欄。return DataFrame"
   ]
  },
  {
   "cell_type": "code",
   "execution_count": 17,
   "metadata": {
    "scrolled": false
   },
   "outputs": [
    {
     "name": "stdout",
     "output_type": "stream",
     "text": [
      "[x.add_prefix()]\n",
      "pre_a    0\n",
      "pre_b    1\n",
      "pre_c    2\n",
      "pre_d   -1\n",
      "Name: Happy, dtype: int64\n",
      "\n",
      "[x.add_suffix()]\n",
      "a_post    0\n",
      "b_post    1\n",
      "c_post    2\n",
      "d_post   -1\n",
      "Name: Happy, dtype: int64\n",
      "\n",
      "[x.argmax()]\n",
      "c\n",
      "\n",
      "[x.argmin()]\n",
      "d\n",
      "\n",
      "[x.idxmax()]\n",
      "c\n",
      "\n",
      "[x.idxmin()]\n",
      "d\n",
      "\n",
      "[x.head(3)]\n",
      "a    0\n",
      "b    1\n",
      "c    2\n",
      "Name: Happy, dtype: int64\n",
      "\n",
      "[x.tail(3)]\n",
      "b    1\n",
      "c    2\n",
      "d   -1\n",
      "Name: Happy, dtype: int64\n",
      "\n",
      "[x.reset_index()]\n",
      "  index  Happy\n",
      "0     a      0\n",
      "1     b      1\n",
      "2     c      2\n",
      "3     d     -1\n",
      "type(x.reset_index()) is <class 'pandas.core.frame.DataFrame'>\n",
      "\n"
     ]
    }
   ],
   "source": [
    "x = pd.Series({'b':1,'a':0,'c':2,'d':-1},name=\"Happy\")\n",
    "print('[x.add_prefix()]\\n'+str(x.add_prefix('pre_'))+'\\n')         \n",
    "print('[x.add_suffix()]\\n'+str(x.add_suffix('_post'))+'\\n')            \n",
    "print('[x.argmax()]\\n'+str(x.argmax())+'\\n')     \n",
    "print('[x.argmin()]\\n'+str(x.argmin())+'\\n')\n",
    "print('[x.idxmax()]\\n'+str(x.idxmax())+'\\n')\n",
    "print('[x.idxmin()]\\n'+str(x.idxmin())+'\\n')\n",
    "print('[x.head(3)]\\n'+str(x.head(3))+'\\n')\n",
    "print('[x.tail(3)]\\n'+str(x.tail(3))+'\\n')\n",
    "print('[x.reset_index()]\\n'+str(x.reset_index()))\n",
    "print('type(x.reset_index()) is '+str(type(x.reset_index()))+'\\n')"
   ]
  },
  {
   "cell_type": "markdown",
   "metadata": {},
   "source": [
    "### Series Attributes\n",
    "* axes (List)\n",
    "* index (Index object): use list() to transform it to become a list\n",
    "* keys() (Index object): use list() to transform it to become a list\n",
    "* values (np.ndarray): 可以用np的reshape\n",
    "* name (str)\n",
    "* dtype/dtypes (np.dtype)\n",
    "* empty (boolean)\n",
    "* ftype/ftypes (string) : 'dense':'sparse'\n",
    "* ndim (int) : dimension, by definition 1\n",
    "* is_monotonic (boolean) : monotonicity\n",
    "* is_unique (boolean) : return boolean if values in the object are unique\n",
    "* shape (tuple) : return tuple\n",
    "* strides (tuple) : return a tuple, the strides of the data ?????\n",
    "\n"
   ]
  },
  {
   "cell_type": "code",
   "execution_count": 18,
   "metadata": {},
   "outputs": [
    {
     "name": "stdout",
     "output_type": "stream",
     "text": [
      "\n",
      "[x.axes]\n",
      "[Index(['a', 'b', 'c', 'd'], dtype='object')]\n",
      "type(x.axes) is <class 'list'>\n",
      "\n",
      "\n",
      "[x.index]\n",
      "Index(['a', 'b', 'c', 'd'], dtype='object')\n",
      "type(x.index) is <class 'pandas.core.indexes.base.Index'>\n",
      "\n",
      "\n",
      "[list(x.index)]\n",
      "['a', 'b', 'c', 'd']\n",
      "type(list(x.index) is <class 'list'>\n",
      "\n",
      "\n",
      "[x.keys()]\n",
      "Index(['a', 'b', 'c', 'd'], dtype='object')\n",
      "type(x.keys) is <class 'pandas.core.indexes.base.Index'>\n",
      "\n",
      "\n",
      "[list(x.keys())]\n",
      "['a', 'b', 'c', 'd']\n",
      "type(list(x.keys())) is <class 'list'>\n",
      "\n",
      "\n",
      "[x.values]\n",
      "[ 0  1  2 -1]\n",
      "type(x.values) is <class 'numpy.ndarray'>\n",
      "\n",
      "\n",
      "[x.values.reshape(int(x.values.size/2),2)]\n",
      "[[ 0  1]\n",
      " [ 2 -1]]\n",
      "\n",
      "[x.name]\n",
      "Happy\n",
      "type(x.name) is <class 'str'>\n",
      "\n",
      "\n",
      "[x.dtype]\n",
      "int64\n",
      "type(x.dtype) is <class 'numpy.dtype'>\n",
      "\n",
      "\n",
      "[x.dtypes]\n",
      "int64\n",
      "type(x.dtypes) is <class 'numpy.dtype'>\n",
      "\n",
      "\n",
      "[x.empty]\n",
      "False\n",
      "type(x.empty) is <class 'bool'>\n",
      "\n",
      "\n",
      "[x.ftype]\n",
      "int64:dense\n",
      "type(x.ftype) is <class 'str'>\n",
      "\n",
      "\n",
      "[x.ftypes]\n",
      "int64:dense\n",
      "type(x.ftypes) is <class 'str'>\n",
      "\n",
      "\n",
      "[x.ndim]\n",
      "1\n",
      "type(x.ndim) is <class 'int'>\n",
      "\n",
      "\n",
      "[x.is_monotonic]\n",
      "False\n",
      "type(x.is_monotonic) is <class 'bool'>\n",
      "\n",
      "\n",
      "[[1,2,3,4].is_unique]\n",
      "True\n",
      "type([1,2,3,4].is_unique) is <class 'bool'>\n",
      "\n",
      "\n",
      "[[1,2,4,4].is_unique]\n",
      "False\n",
      "type([1,2,4,4].is_unique) is <class 'bool'>\n",
      "\n",
      "\n",
      "[x.shape]\n",
      "(4,)\n",
      "type(x.shape) is <class 'tuple'>\n",
      "\n",
      "\n",
      "[x.strides]\n",
      "(8,)\n",
      "type(x.strides) is <class 'tuple'>\n",
      "\n"
     ]
    }
   ],
   "source": [
    "print('\\n[x.axes]\\n'+str(x.axes))\n",
    "print('type(x.axes) is '+str(type(x.axes))+\"\\n\")\n",
    "\n",
    "print('\\n[x.index]\\n'+str(x.index))\n",
    "print('type(x.index) is '+str(type(x.index))+\"\\n\")\n",
    "\n",
    "print('\\n[list(x.index)]\\n'+str(list(x.index)))\n",
    "print('type(list(x.index) is '+str(type(list(x.index)))+\"\\n\")\n",
    "\n",
    "print('\\n[x.keys()]\\n'+str(x.keys()))\n",
    "print('type(x.keys) is '+str(type(x.keys()))+\"\\n\")\n",
    "\n",
    "print('\\n[list(x.keys())]\\n'+str(list(x.keys())))\n",
    "print('type(list(x.keys())) is '+str(type(list(x.keys())))+\"\\n\")\n",
    "\n",
    "print('\\n[x.values]\\n'+str(x.values))\n",
    "print('type(x.values) is '+str(type(x.values))+\"\\n\")\n",
    "print('\\n[x.values.reshape(int(x.values.size/2),2)]\\n'+str(x.values.reshape(int(x.values.size/2),2)))\n",
    "\n",
    "#print('\\n[x.values.reshape(int(x.values.size)/2,2)]\\n'+str(x.values.reshape(int(x.values.size)/2,2)))\n",
    "\n",
    "print('\\n[x.name]\\n'+str(x.name))\n",
    "print('type(x.name) is '+str(type(x.name))+\"\\n\")\n",
    "\n",
    "print('\\n[x.dtype]\\n'+str(x.dtype))\n",
    "print('type(x.dtype) is '+str(type(x.dtype))+\"\\n\")\n",
    "\n",
    "print('\\n[x.dtypes]\\n'+str(x.dtypes))\n",
    "print('type(x.dtypes) is '+str(type(x.dtypes))+\"\\n\")\n",
    "\n",
    "print('\\n[x.empty]\\n'+str(x.empty))\n",
    "print('type(x.empty) is '+str(type(x.empty))+\"\\n\")\n",
    "\n",
    "print('\\n[x.ftype]\\n'+str(x.ftype))\n",
    "print('type(x.ftype) is '+str(type(x.ftype))+\"\\n\")\n",
    "\n",
    "print('\\n[x.ftypes]\\n'+str(x.ftypes))\n",
    "print('type(x.ftypes) is '+str(type(x.ftypes))+\"\\n\")\n",
    "\n",
    "print('\\n[x.ndim]\\n'+str(x.ndim))\n",
    "print('type(x.ndim) is '+str(type(x.ndim))+\"\\n\")\n",
    "\n",
    "print('\\n[x.is_monotonic]\\n'+str(x.is_monotonic))\n",
    "print('type(x.is_monotonic) is '+str(type(x.is_monotonic))+\"\\n\")\n",
    "\n",
    "print('\\n[[1,2,3,4].is_unique]\\n'+str(pd.Series(data=[1,2,3,4]).is_unique))\n",
    "print('type([1,2,3,4].is_unique) is '+str(type(pd.Series(data=[1,2,3,4]).is_unique))+\"\\n\")\n",
    "\n",
    "print('\\n[[1,2,4,4].is_unique]\\n'+str(pd.Series(data=[1,2,4,4]).is_unique))\n",
    "print('type([1,2,4,4].is_unique) is '+str(type(pd.Series(data=[1,2,4,4]).is_unique))+\"\\n\")\n",
    "\n",
    "print('\\n[x.shape]\\n'+str(x.shape))\n",
    "print('type(x.shape) is '+str(type(x.shape))+\"\\n\")\n",
    "\n",
    "print('\\n[x.strides]\\n'+str(x.strides))\n",
    "print('type(x.strides) is '+str(type(x.strides))+\"\\n\")"
   ]
  },
  {
   "cell_type": "code",
   "execution_count": 19,
   "metadata": {
    "scrolled": true
   },
   "outputs": [
    {
     "data": {
      "text/plain": [
       "0     1.0\n",
       "1     3.0\n",
       "2     6.0\n",
       "3     NaN\n",
       "4    44.0\n",
       "5     1.0\n",
       "dtype: float64"
      ]
     },
     "execution_count": 19,
     "metadata": {},
     "output_type": "execute_result"
    }
   ],
   "source": [
    "s1 = pd.Series([1,3,6,np.nan,44,1])\n",
    "s1"
   ]
  },
  {
   "cell_type": "code",
   "execution_count": 20,
   "metadata": {},
   "outputs": [
    {
     "data": {
      "text/plain": [
       "a     1.0\n",
       "b     3.0\n",
       "c     6.0\n",
       "d     NaN\n",
       "e    44.0\n",
       "f     1.0\n",
       "dtype: float64"
      ]
     },
     "execution_count": 20,
     "metadata": {},
     "output_type": "execute_result"
    }
   ],
   "source": [
    "s1 = pd.Series([1,3,6,np.nan,44,1],index=['a','b','c','d','e','f'])\n",
    "s1"
   ]
  },
  {
   "cell_type": "markdown",
   "metadata": {},
   "source": [
    "## DataFrame\n",
    "### 用手寫set來做DataFrame"
   ]
  },
  {
   "cell_type": "code",
   "execution_count": 21,
   "metadata": {},
   "outputs": [
    {
     "data": {
      "text/html": [
       "<div>\n",
       "<style>\n",
       "    .dataframe thead tr:only-child th {\n",
       "        text-align: right;\n",
       "    }\n",
       "\n",
       "    .dataframe thead th {\n",
       "        text-align: left;\n",
       "    }\n",
       "\n",
       "    .dataframe tbody tr th {\n",
       "        vertical-align: top;\n",
       "    }\n",
       "</style>\n",
       "<table border=\"1\" class=\"dataframe\">\n",
       "  <thead>\n",
       "    <tr style=\"text-align: right;\">\n",
       "      <th></th>\n",
       "      <th>col1</th>\n",
       "      <th>col2</th>\n",
       "    </tr>\n",
       "  </thead>\n",
       "  <tbody>\n",
       "    <tr>\n",
       "      <th>0</th>\n",
       "      <td>1</td>\n",
       "      <td>a</td>\n",
       "    </tr>\n",
       "    <tr>\n",
       "      <th>1</th>\n",
       "      <td>2</td>\n",
       "      <td>b</td>\n",
       "    </tr>\n",
       "    <tr>\n",
       "      <th>2</th>\n",
       "      <td>3</td>\n",
       "      <td>cc</td>\n",
       "    </tr>\n",
       "    <tr>\n",
       "      <th>3</th>\n",
       "      <td>4</td>\n",
       "      <td>d</td>\n",
       "    </tr>\n",
       "    <tr>\n",
       "      <th>4</th>\n",
       "      <td>5</td>\n",
       "      <td>ef</td>\n",
       "    </tr>\n",
       "  </tbody>\n",
       "</table>\n",
       "</div>"
      ],
      "text/plain": [
       "   col1 col2\n",
       "0     1    a\n",
       "1     2    b\n",
       "2     3   cc\n",
       "3     4    d\n",
       "4     5   ef"
      ]
     },
     "execution_count": 21,
     "metadata": {},
     "output_type": "execute_result"
    }
   ],
   "source": [
    "df = pd.DataFrame({'col1':[1,2,3,4,5],'col2':['a','b','cc','d','ef']})\n",
    "df"
   ]
  },
  {
   "cell_type": "markdown",
   "metadata": {},
   "source": [
    "### 產生DataFrame用np.random.randn產生出一個6*4大小數值為標準常態分佈，並命名欄位名稱依序為a, b, c, d"
   ]
  },
  {
   "cell_type": "code",
   "execution_count": 22,
   "metadata": {},
   "outputs": [
    {
     "name": "stdout",
     "output_type": "stream",
     "text": [
      "          a         b         c         d\n",
      "0 -2.033454  1.015350  0.508785 -2.131730\n",
      "1 -0.569860 -1.998266  0.448300  1.078432\n",
      "2  0.256231  0.412274  0.876662  0.107605\n",
      "3  0.580583  0.643066  0.386151 -1.437560\n",
      "4 -1.601770  0.514928 -0.771096 -0.439381\n",
      "-----------------\n",
      "<class 'pandas.core.frame.DataFrame'>\n",
      "RangeIndex: 6 entries, 0 to 5\n",
      "Data columns (total 4 columns):\n",
      "a    6 non-null float64\n",
      "b    6 non-null float64\n",
      "c    6 non-null float64\n",
      "d    6 non-null float64\n",
      "dtypes: float64(4)\n",
      "memory usage: 272.0 bytes\n",
      "None\n"
     ]
    }
   ],
   "source": [
    "df = pd.DataFrame(data=np.random.randn(6,4),columns=['a','b','c','d'])\n",
    "print(df.head())\n",
    "print(\"-----------------\")\n",
    "print(df.info())"
   ]
  },
  {
   "cell_type": "markdown",
   "metadata": {},
   "source": [
    "### 將iris的資料做成DataFrame"
   ]
  },
  {
   "cell_type": "code",
   "execution_count": 23,
   "metadata": {
    "collapsed": true
   },
   "outputs": [],
   "source": [
    "from sklearn import datasets\n",
    "iris = datasets.load_iris()"
   ]
  },
  {
   "cell_type": "code",
   "execution_count": 24,
   "metadata": {},
   "outputs": [
    {
     "data": {
      "text/html": [
       "<div>\n",
       "<style>\n",
       "    .dataframe thead tr:only-child th {\n",
       "        text-align: right;\n",
       "    }\n",
       "\n",
       "    .dataframe thead th {\n",
       "        text-align: left;\n",
       "    }\n",
       "\n",
       "    .dataframe tbody tr th {\n",
       "        vertical-align: top;\n",
       "    }\n",
       "</style>\n",
       "<table border=\"1\" class=\"dataframe\">\n",
       "  <thead>\n",
       "    <tr style=\"text-align: right;\">\n",
       "      <th></th>\n",
       "      <th>sepal length (cm)</th>\n",
       "      <th>sepal width (cm)</th>\n",
       "      <th>petal length (cm)</th>\n",
       "      <th>petal width (cm)</th>\n",
       "    </tr>\n",
       "  </thead>\n",
       "  <tbody>\n",
       "    <tr>\n",
       "      <th>0</th>\n",
       "      <td>5.1</td>\n",
       "      <td>3.5</td>\n",
       "      <td>1.4</td>\n",
       "      <td>0.2</td>\n",
       "    </tr>\n",
       "    <tr>\n",
       "      <th>1</th>\n",
       "      <td>4.9</td>\n",
       "      <td>3.0</td>\n",
       "      <td>1.4</td>\n",
       "      <td>0.2</td>\n",
       "    </tr>\n",
       "    <tr>\n",
       "      <th>2</th>\n",
       "      <td>4.7</td>\n",
       "      <td>3.2</td>\n",
       "      <td>1.3</td>\n",
       "      <td>0.2</td>\n",
       "    </tr>\n",
       "    <tr>\n",
       "      <th>3</th>\n",
       "      <td>4.6</td>\n",
       "      <td>3.1</td>\n",
       "      <td>1.5</td>\n",
       "      <td>0.2</td>\n",
       "    </tr>\n",
       "    <tr>\n",
       "      <th>4</th>\n",
       "      <td>5.0</td>\n",
       "      <td>3.6</td>\n",
       "      <td>1.4</td>\n",
       "      <td>0.2</td>\n",
       "    </tr>\n",
       "  </tbody>\n",
       "</table>\n",
       "</div>"
      ],
      "text/plain": [
       "   sepal length (cm)  sepal width (cm)  petal length (cm)  petal width (cm)\n",
       "0                5.1               3.5                1.4               0.2\n",
       "1                4.9               3.0                1.4               0.2\n",
       "2                4.7               3.2                1.3               0.2\n",
       "3                4.6               3.1                1.5               0.2\n",
       "4                5.0               3.6                1.4               0.2"
      ]
     },
     "execution_count": 24,
     "metadata": {},
     "output_type": "execute_result"
    }
   ],
   "source": [
    "iris_pd = pd.DataFrame(data=iris['data'],columns=iris['feature_names'])\n",
    "iris_pd.head()"
   ]
  },
  {
   "cell_type": "code",
   "execution_count": 25,
   "metadata": {
    "scrolled": false
   },
   "outputs": [
    {
     "data": {
      "text/html": [
       "<div>\n",
       "<style>\n",
       "    .dataframe thead tr:only-child th {\n",
       "        text-align: right;\n",
       "    }\n",
       "\n",
       "    .dataframe thead th {\n",
       "        text-align: left;\n",
       "    }\n",
       "\n",
       "    .dataframe tbody tr th {\n",
       "        vertical-align: top;\n",
       "    }\n",
       "</style>\n",
       "<table border=\"1\" class=\"dataframe\">\n",
       "  <thead>\n",
       "    <tr style=\"text-align: right;\">\n",
       "      <th></th>\n",
       "      <th>target_names</th>\n",
       "    </tr>\n",
       "  </thead>\n",
       "  <tbody>\n",
       "    <tr>\n",
       "      <th>0</th>\n",
       "      <td>0</td>\n",
       "    </tr>\n",
       "    <tr>\n",
       "      <th>1</th>\n",
       "      <td>0</td>\n",
       "    </tr>\n",
       "    <tr>\n",
       "      <th>2</th>\n",
       "      <td>0</td>\n",
       "    </tr>\n",
       "    <tr>\n",
       "      <th>3</th>\n",
       "      <td>0</td>\n",
       "    </tr>\n",
       "    <tr>\n",
       "      <th>4</th>\n",
       "      <td>0</td>\n",
       "    </tr>\n",
       "  </tbody>\n",
       "</table>\n",
       "</div>"
      ],
      "text/plain": [
       "   target_names\n",
       "0             0\n",
       "1             0\n",
       "2             0\n",
       "3             0\n",
       "4             0"
      ]
     },
     "execution_count": 25,
     "metadata": {},
     "output_type": "execute_result"
    }
   ],
   "source": [
    "iris_pd_y = pd.DataFrame(data=iris['target'],columns=['target_names'])\n",
    "iris_pd_y.head()"
   ]
  },
  {
   "cell_type": "code",
   "execution_count": 26,
   "metadata": {
    "scrolled": false
   },
   "outputs": [
    {
     "data": {
      "text/html": [
       "<div>\n",
       "<style>\n",
       "    .dataframe thead tr:only-child th {\n",
       "        text-align: right;\n",
       "    }\n",
       "\n",
       "    .dataframe thead th {\n",
       "        text-align: left;\n",
       "    }\n",
       "\n",
       "    .dataframe tbody tr th {\n",
       "        vertical-align: top;\n",
       "    }\n",
       "</style>\n",
       "<table border=\"1\" class=\"dataframe\">\n",
       "  <thead>\n",
       "    <tr style=\"text-align: right;\">\n",
       "      <th></th>\n",
       "      <th>sepal length (cm)</th>\n",
       "      <th>sepal width (cm)</th>\n",
       "      <th>petal length (cm)</th>\n",
       "      <th>petal width (cm)</th>\n",
       "      <th>target_names</th>\n",
       "    </tr>\n",
       "  </thead>\n",
       "  <tbody>\n",
       "    <tr>\n",
       "      <th>0</th>\n",
       "      <td>5.1</td>\n",
       "      <td>3.5</td>\n",
       "      <td>1.4</td>\n",
       "      <td>0.2</td>\n",
       "      <td>0</td>\n",
       "    </tr>\n",
       "    <tr>\n",
       "      <th>1</th>\n",
       "      <td>4.9</td>\n",
       "      <td>3.0</td>\n",
       "      <td>1.4</td>\n",
       "      <td>0.2</td>\n",
       "      <td>0</td>\n",
       "    </tr>\n",
       "    <tr>\n",
       "      <th>2</th>\n",
       "      <td>4.7</td>\n",
       "      <td>3.2</td>\n",
       "      <td>1.3</td>\n",
       "      <td>0.2</td>\n",
       "      <td>0</td>\n",
       "    </tr>\n",
       "    <tr>\n",
       "      <th>3</th>\n",
       "      <td>4.6</td>\n",
       "      <td>3.1</td>\n",
       "      <td>1.5</td>\n",
       "      <td>0.2</td>\n",
       "      <td>0</td>\n",
       "    </tr>\n",
       "    <tr>\n",
       "      <th>4</th>\n",
       "      <td>5.0</td>\n",
       "      <td>3.6</td>\n",
       "      <td>1.4</td>\n",
       "      <td>0.2</td>\n",
       "      <td>0</td>\n",
       "    </tr>\n",
       "  </tbody>\n",
       "</table>\n",
       "</div>"
      ],
      "text/plain": [
       "   sepal length (cm)  sepal width (cm)  petal length (cm)  petal width (cm)  \\\n",
       "0                5.1               3.5                1.4               0.2   \n",
       "1                4.9               3.0                1.4               0.2   \n",
       "2                4.7               3.2                1.3               0.2   \n",
       "3                4.6               3.1                1.5               0.2   \n",
       "4                5.0               3.6                1.4               0.2   \n",
       "\n",
       "   target_names  \n",
       "0             0  \n",
       "1             0  \n",
       "2             0  \n",
       "3             0  \n",
       "4             0  "
      ]
     },
     "execution_count": 26,
     "metadata": {},
     "output_type": "execute_result"
    }
   ],
   "source": [
    "iris_pd = pd.concat([iris_pd,iris_pd_y],axis=1)\n",
    "iris_pd.head()"
   ]
  },
  {
   "cell_type": "code",
   "execution_count": 27,
   "metadata": {
    "scrolled": false
   },
   "outputs": [
    {
     "name": "stdout",
     "output_type": "stream",
     "text": [
      "<class 'pandas.core.frame.DataFrame'>\n",
      "RangeIndex: 150 entries, 0 to 149\n",
      "Data columns (total 5 columns):\n",
      "sepal length (cm)    150 non-null float64\n",
      "sepal width (cm)     150 non-null float64\n",
      "petal length (cm)    150 non-null float64\n",
      "petal width (cm)     150 non-null float64\n",
      "target_names         150 non-null int32\n",
      "dtypes: float64(4), int32(1)\n",
      "memory usage: 5.4 KB\n",
      "None\n"
     ]
    }
   ],
   "source": [
    "## print DataFrame information\n",
    "print(iris_pd.info())"
   ]
  },
  {
   "cell_type": "code",
   "execution_count": 28,
   "metadata": {},
   "outputs": [
    {
     "name": "stdout",
     "output_type": "stream",
     "text": [
      "       sepal length (cm)  sepal width (cm)  petal length (cm)  \\\n",
      "count         150.000000        150.000000         150.000000   \n",
      "mean            5.843333          3.054000           3.758667   \n",
      "std             0.828066          0.433594           1.764420   \n",
      "min             4.300000          2.000000           1.000000   \n",
      "25%             5.100000          2.800000           1.600000   \n",
      "50%             5.800000          3.000000           4.350000   \n",
      "75%             6.400000          3.300000           5.100000   \n",
      "max             7.900000          4.400000           6.900000   \n",
      "\n",
      "       petal width (cm)  target_names  \n",
      "count        150.000000    150.000000  \n",
      "mean           1.198667      1.000000  \n",
      "std            0.763161      0.819232  \n",
      "min            0.100000      0.000000  \n",
      "25%            0.300000      0.000000  \n",
      "50%            1.300000      1.000000  \n",
      "75%            1.800000      2.000000  \n",
      "max            2.500000      2.000000  \n"
     ]
    }
   ],
   "source": [
    "## print DataFrame description\n",
    "print(iris_pd.describe())"
   ]
  },
  {
   "cell_type": "markdown",
   "metadata": {},
   "source": [
    "### 可利用columns函式取得欄位名稱，以及用sort_values來做資料排序\n",
    "###### 假設iris_pd為DataFrame, iris_pd['sepal length (cm)'] 為Seris，iris_pd['sepal length (cm)'].sort_values() 會return Series\n",
    "\n",
    "###### iris_pd.sort_values一定要帶入參數by表示依哪個column做sorting: iris_pd.sort_values(by='sepal length (cm)') 會return DataFrame"
   ]
  },
  {
   "cell_type": "code",
   "execution_count": 29,
   "metadata": {},
   "outputs": [
    {
     "data": {
      "text/plain": [
       "Index(['sepal length (cm)', 'sepal width (cm)', 'petal length (cm)',\n",
       "       'petal width (cm)', 'target_names'],\n",
       "      dtype='object')"
      ]
     },
     "execution_count": 29,
     "metadata": {},
     "output_type": "execute_result"
    }
   ],
   "source": [
    "iris_pd.columns"
   ]
  },
  {
   "cell_type": "code",
   "execution_count": 30,
   "metadata": {
    "scrolled": true
   },
   "outputs": [
    {
     "name": "stdout",
     "output_type": "stream",
     "text": [
      "13    4.3\n",
      "42    4.4\n",
      "38    4.4\n",
      "8     4.4\n",
      "41    4.5\n",
      "Name: sepal length (cm), dtype: float64\n",
      "data type is  <class 'pandas.core.series.Series'>\n"
     ]
    }
   ],
   "source": [
    "print(iris_pd['sepal length (cm)'].sort_values().head())\n",
    "print (\"data type is \",type(iris_pd['sepal length (cm)'].sort_values()))"
   ]
  },
  {
   "cell_type": "code",
   "execution_count": 31,
   "metadata": {
    "scrolled": false
   },
   "outputs": [
    {
     "name": "stdout",
     "output_type": "stream",
     "text": [
      "    sepal length (cm)  sepal width (cm)  petal length (cm)  petal width (cm)  \\\n",
      "13                4.3               3.0                1.1               0.1   \n",
      "42                4.4               3.2                1.3               0.2   \n",
      "38                4.4               3.0                1.3               0.2   \n",
      "8                 4.4               2.9                1.4               0.2   \n",
      "41                4.5               2.3                1.3               0.3   \n",
      "\n",
      "    target_names  \n",
      "13             0  \n",
      "42             0  \n",
      "38             0  \n",
      "8              0  \n",
      "41             0  \n",
      "data type is  <class 'pandas.core.frame.DataFrame'>\n"
     ]
    }
   ],
   "source": [
    "iris_pd_bysepallg = iris_pd.sort_values(by='sepal length (cm)')\n",
    "print(iris_pd_bysepallg.head())\n",
    "print (\"data type is \",type(iris_pd_bysepallg))"
   ]
  },
  {
   "cell_type": "markdown",
   "metadata": {},
   "source": [
    "### DataFrame 部份選擇欄位\n",
    "###### data_frame['col_name'] : Series 物件\n",
    "print時不會有column name\n",
    "###### data_frame[['col_name']] (兩組中括號): DataFrame 物件\n",
    "print時有column name"
   ]
  },
  {
   "cell_type": "code",
   "execution_count": 32,
   "metadata": {
    "scrolled": true
   },
   "outputs": [
    {
     "name": "stdout",
     "output_type": "stream",
     "text": [
      "type of iris_partial is <class 'pandas.core.series.Series'>\n",
      "type of iris_partial2 is <class 'pandas.core.frame.DataFrame'>\n",
      "type of iris_partial3 is <class 'pandas.core.frame.DataFrame'>\n",
      "\n",
      "iris_partial content is: \n",
      "0    5.1\n",
      "1    4.9\n",
      "2    4.7\n",
      "3    4.6\n",
      "4    5.0\n",
      "Name: sepal length (cm), dtype: float64\n",
      "\n",
      "iris_partial2 content is: \n",
      "   sepal length (cm)\n",
      "0                5.1\n",
      "1                4.9\n",
      "2                4.7\n",
      "3                4.6\n",
      "4                5.0\n"
     ]
    }
   ],
   "source": [
    "iris_partial = iris_pd['sepal length (cm)']\n",
    "iris_partial2 = iris_pd[['sepal length (cm)']]\n",
    "iris_partial3 = iris_pd[['sepal length (cm)','sepal width (cm)']]\n",
    "print(\"type of iris_partial is\",type(iris_partial))\n",
    "print(\"type of iris_partial2 is\",type(iris_partial2))\n",
    "print(\"type of iris_partial3 is\",type(iris_partial3))\n",
    "print(\"\")\n",
    "print(\"iris_partial content is: \")\n",
    "print(iris_partial.head())\n",
    "print(\"\")\n",
    "print(\"iris_partial2 content is: \")\n",
    "print(iris_partial2.head())\n"
   ]
  },
  {
   "cell_type": "markdown",
   "metadata": {},
   "source": [
    "### DataFrame資料選取\n",
    "###### 方法1: 兩次括號篩選\n",
    "data[5:10][['col1','col2']]\n",
    "###### 方法2: obj.loc\n",
    "data.loc[5:10,['col1','col2']]"
   ]
  },
  {
   "cell_type": "code",
   "execution_count": 33,
   "metadata": {},
   "outputs": [
    {
     "name": "stdout",
     "output_type": "stream",
     "text": [
      "type of iris_pd_sel1 is: <class 'pandas.core.frame.DataFrame'>\n"
     ]
    },
    {
     "data": {
      "text/html": [
       "<div>\n",
       "<style>\n",
       "    .dataframe thead tr:only-child th {\n",
       "        text-align: right;\n",
       "    }\n",
       "\n",
       "    .dataframe thead th {\n",
       "        text-align: left;\n",
       "    }\n",
       "\n",
       "    .dataframe tbody tr th {\n",
       "        vertical-align: top;\n",
       "    }\n",
       "</style>\n",
       "<table border=\"1\" class=\"dataframe\">\n",
       "  <thead>\n",
       "    <tr style=\"text-align: right;\">\n",
       "      <th></th>\n",
       "      <th>sepal length (cm)</th>\n",
       "      <th>sepal width (cm)</th>\n",
       "      <th>petal length (cm)</th>\n",
       "    </tr>\n",
       "  </thead>\n",
       "  <tbody>\n",
       "    <tr>\n",
       "      <th>5</th>\n",
       "      <td>5.4</td>\n",
       "      <td>3.9</td>\n",
       "      <td>1.7</td>\n",
       "    </tr>\n",
       "    <tr>\n",
       "      <th>6</th>\n",
       "      <td>4.6</td>\n",
       "      <td>3.4</td>\n",
       "      <td>1.4</td>\n",
       "    </tr>\n",
       "    <tr>\n",
       "      <th>7</th>\n",
       "      <td>5.0</td>\n",
       "      <td>3.4</td>\n",
       "      <td>1.5</td>\n",
       "    </tr>\n",
       "    <tr>\n",
       "      <th>8</th>\n",
       "      <td>4.4</td>\n",
       "      <td>2.9</td>\n",
       "      <td>1.4</td>\n",
       "    </tr>\n",
       "    <tr>\n",
       "      <th>9</th>\n",
       "      <td>4.9</td>\n",
       "      <td>3.1</td>\n",
       "      <td>1.5</td>\n",
       "    </tr>\n",
       "  </tbody>\n",
       "</table>\n",
       "</div>"
      ],
      "text/plain": [
       "   sepal length (cm)  sepal width (cm)  petal length (cm)\n",
       "5                5.4               3.9                1.7\n",
       "6                4.6               3.4                1.4\n",
       "7                5.0               3.4                1.5\n",
       "8                4.4               2.9                1.4\n",
       "9                4.9               3.1                1.5"
      ]
     },
     "execution_count": 33,
     "metadata": {},
     "output_type": "execute_result"
    }
   ],
   "source": [
    "iris_pd_sel1 = iris_pd[5:10][['sepal length (cm)','sepal width (cm)','petal length (cm)']]\n",
    "print(\"type of iris_pd_sel1 is:\",type(iris_pd_sel1))\n",
    "iris_pd_sel1"
   ]
  },
  {
   "cell_type": "code",
   "execution_count": 34,
   "metadata": {},
   "outputs": [
    {
     "name": "stdout",
     "output_type": "stream",
     "text": [
      "type of iris_pd_sel2 is: <class 'pandas.core.frame.DataFrame'>\n"
     ]
    },
    {
     "data": {
      "text/html": [
       "<div>\n",
       "<style>\n",
       "    .dataframe thead tr:only-child th {\n",
       "        text-align: right;\n",
       "    }\n",
       "\n",
       "    .dataframe thead th {\n",
       "        text-align: left;\n",
       "    }\n",
       "\n",
       "    .dataframe tbody tr th {\n",
       "        vertical-align: top;\n",
       "    }\n",
       "</style>\n",
       "<table border=\"1\" class=\"dataframe\">\n",
       "  <thead>\n",
       "    <tr style=\"text-align: right;\">\n",
       "      <th></th>\n",
       "      <th>sepal length (cm)</th>\n",
       "      <th>sepal width (cm)</th>\n",
       "      <th>petal length (cm)</th>\n",
       "    </tr>\n",
       "  </thead>\n",
       "  <tbody>\n",
       "    <tr>\n",
       "      <th>5</th>\n",
       "      <td>5.4</td>\n",
       "      <td>3.9</td>\n",
       "      <td>1.7</td>\n",
       "    </tr>\n",
       "    <tr>\n",
       "      <th>6</th>\n",
       "      <td>4.6</td>\n",
       "      <td>3.4</td>\n",
       "      <td>1.4</td>\n",
       "    </tr>\n",
       "    <tr>\n",
       "      <th>7</th>\n",
       "      <td>5.0</td>\n",
       "      <td>3.4</td>\n",
       "      <td>1.5</td>\n",
       "    </tr>\n",
       "    <tr>\n",
       "      <th>8</th>\n",
       "      <td>4.4</td>\n",
       "      <td>2.9</td>\n",
       "      <td>1.4</td>\n",
       "    </tr>\n",
       "    <tr>\n",
       "      <th>9</th>\n",
       "      <td>4.9</td>\n",
       "      <td>3.1</td>\n",
       "      <td>1.5</td>\n",
       "    </tr>\n",
       "    <tr>\n",
       "      <th>10</th>\n",
       "      <td>5.4</td>\n",
       "      <td>3.7</td>\n",
       "      <td>1.5</td>\n",
       "    </tr>\n",
       "  </tbody>\n",
       "</table>\n",
       "</div>"
      ],
      "text/plain": [
       "    sepal length (cm)  sepal width (cm)  petal length (cm)\n",
       "5                 5.4               3.9                1.7\n",
       "6                 4.6               3.4                1.4\n",
       "7                 5.0               3.4                1.5\n",
       "8                 4.4               2.9                1.4\n",
       "9                 4.9               3.1                1.5\n",
       "10                5.4               3.7                1.5"
      ]
     },
     "execution_count": 34,
     "metadata": {},
     "output_type": "execute_result"
    }
   ],
   "source": [
    "iris_pd_sel2 = iris_pd.loc[5:10,['sepal length (cm)','sepal width (cm)','petal length (cm)']]\n",
    "print(\"type of iris_pd_sel2 is:\",type(iris_pd_sel2))\n",
    "iris_pd_sel2"
   ]
  },
  {
   "cell_type": "markdown",
   "metadata": {},
   "source": [
    "### DataFrame資料篩選\n",
    "在中括號裡面放入篩選條件"
   ]
  },
  {
   "cell_type": "code",
   "execution_count": 35,
   "metadata": {},
   "outputs": [
    {
     "data": {
      "text/html": [
       "<div>\n",
       "<style>\n",
       "    .dataframe thead tr:only-child th {\n",
       "        text-align: right;\n",
       "    }\n",
       "\n",
       "    .dataframe thead th {\n",
       "        text-align: left;\n",
       "    }\n",
       "\n",
       "    .dataframe tbody tr th {\n",
       "        vertical-align: top;\n",
       "    }\n",
       "</style>\n",
       "<table border=\"1\" class=\"dataframe\">\n",
       "  <thead>\n",
       "    <tr style=\"text-align: right;\">\n",
       "      <th></th>\n",
       "      <th>sepal length (cm)</th>\n",
       "      <th>sepal width (cm)</th>\n",
       "      <th>petal length (cm)</th>\n",
       "      <th>petal width (cm)</th>\n",
       "      <th>target_names</th>\n",
       "    </tr>\n",
       "  </thead>\n",
       "  <tbody>\n",
       "    <tr>\n",
       "      <th>102</th>\n",
       "      <td>7.1</td>\n",
       "      <td>3.0</td>\n",
       "      <td>5.9</td>\n",
       "      <td>2.1</td>\n",
       "      <td>2</td>\n",
       "    </tr>\n",
       "    <tr>\n",
       "      <th>105</th>\n",
       "      <td>7.6</td>\n",
       "      <td>3.0</td>\n",
       "      <td>6.6</td>\n",
       "      <td>2.1</td>\n",
       "      <td>2</td>\n",
       "    </tr>\n",
       "    <tr>\n",
       "      <th>107</th>\n",
       "      <td>7.3</td>\n",
       "      <td>2.9</td>\n",
       "      <td>6.3</td>\n",
       "      <td>1.8</td>\n",
       "      <td>2</td>\n",
       "    </tr>\n",
       "    <tr>\n",
       "      <th>109</th>\n",
       "      <td>7.2</td>\n",
       "      <td>3.6</td>\n",
       "      <td>6.1</td>\n",
       "      <td>2.5</td>\n",
       "      <td>2</td>\n",
       "    </tr>\n",
       "    <tr>\n",
       "      <th>117</th>\n",
       "      <td>7.7</td>\n",
       "      <td>3.8</td>\n",
       "      <td>6.7</td>\n",
       "      <td>2.2</td>\n",
       "      <td>2</td>\n",
       "    </tr>\n",
       "    <tr>\n",
       "      <th>118</th>\n",
       "      <td>7.7</td>\n",
       "      <td>2.6</td>\n",
       "      <td>6.9</td>\n",
       "      <td>2.3</td>\n",
       "      <td>2</td>\n",
       "    </tr>\n",
       "    <tr>\n",
       "      <th>122</th>\n",
       "      <td>7.7</td>\n",
       "      <td>2.8</td>\n",
       "      <td>6.7</td>\n",
       "      <td>2.0</td>\n",
       "      <td>2</td>\n",
       "    </tr>\n",
       "    <tr>\n",
       "      <th>125</th>\n",
       "      <td>7.2</td>\n",
       "      <td>3.2</td>\n",
       "      <td>6.0</td>\n",
       "      <td>1.8</td>\n",
       "      <td>2</td>\n",
       "    </tr>\n",
       "    <tr>\n",
       "      <th>129</th>\n",
       "      <td>7.2</td>\n",
       "      <td>3.0</td>\n",
       "      <td>5.8</td>\n",
       "      <td>1.6</td>\n",
       "      <td>2</td>\n",
       "    </tr>\n",
       "    <tr>\n",
       "      <th>130</th>\n",
       "      <td>7.4</td>\n",
       "      <td>2.8</td>\n",
       "      <td>6.1</td>\n",
       "      <td>1.9</td>\n",
       "      <td>2</td>\n",
       "    </tr>\n",
       "    <tr>\n",
       "      <th>131</th>\n",
       "      <td>7.9</td>\n",
       "      <td>3.8</td>\n",
       "      <td>6.4</td>\n",
       "      <td>2.0</td>\n",
       "      <td>2</td>\n",
       "    </tr>\n",
       "    <tr>\n",
       "      <th>135</th>\n",
       "      <td>7.7</td>\n",
       "      <td>3.0</td>\n",
       "      <td>6.1</td>\n",
       "      <td>2.3</td>\n",
       "      <td>2</td>\n",
       "    </tr>\n",
       "  </tbody>\n",
       "</table>\n",
       "</div>"
      ],
      "text/plain": [
       "     sepal length (cm)  sepal width (cm)  petal length (cm)  petal width (cm)  \\\n",
       "102                7.1               3.0                5.9               2.1   \n",
       "105                7.6               3.0                6.6               2.1   \n",
       "107                7.3               2.9                6.3               1.8   \n",
       "109                7.2               3.6                6.1               2.5   \n",
       "117                7.7               3.8                6.7               2.2   \n",
       "118                7.7               2.6                6.9               2.3   \n",
       "122                7.7               2.8                6.7               2.0   \n",
       "125                7.2               3.2                6.0               1.8   \n",
       "129                7.2               3.0                5.8               1.6   \n",
       "130                7.4               2.8                6.1               1.9   \n",
       "131                7.9               3.8                6.4               2.0   \n",
       "135                7.7               3.0                6.1               2.3   \n",
       "\n",
       "     target_names  \n",
       "102             2  \n",
       "105             2  \n",
       "107             2  \n",
       "109             2  \n",
       "117             2  \n",
       "118             2  \n",
       "122             2  \n",
       "125             2  \n",
       "129             2  \n",
       "130             2  \n",
       "131             2  \n",
       "135             2  "
      ]
     },
     "execution_count": 35,
     "metadata": {},
     "output_type": "execute_result"
    }
   ],
   "source": [
    "iris_pd[iris_pd['sepal length (cm)'] > 7]"
   ]
  },
  {
   "cell_type": "markdown",
   "metadata": {},
   "source": [
    "### DataFrame資料分群\n"
   ]
  },
  {
   "cell_type": "code",
   "execution_count": 36,
   "metadata": {
    "scrolled": false
   },
   "outputs": [
    {
     "name": "stdout",
     "output_type": "stream",
     "text": [
      "Data type of DataFrame.groupby is  <class 'pandas.core.frame.DataFrame'>\n"
     ]
    },
    {
     "data": {
      "text/html": [
       "<div>\n",
       "<style>\n",
       "    .dataframe thead tr:only-child th {\n",
       "        text-align: right;\n",
       "    }\n",
       "\n",
       "    .dataframe thead th {\n",
       "        text-align: left;\n",
       "    }\n",
       "\n",
       "    .dataframe tbody tr th {\n",
       "        vertical-align: top;\n",
       "    }\n",
       "</style>\n",
       "<table border=\"1\" class=\"dataframe\">\n",
       "  <thead>\n",
       "    <tr style=\"text-align: right;\">\n",
       "      <th></th>\n",
       "      <th>sepal length (cm)</th>\n",
       "      <th>sepal width (cm)</th>\n",
       "      <th>petal length (cm)</th>\n",
       "      <th>petal width (cm)</th>\n",
       "    </tr>\n",
       "    <tr>\n",
       "      <th>target_names</th>\n",
       "      <th></th>\n",
       "      <th></th>\n",
       "      <th></th>\n",
       "      <th></th>\n",
       "    </tr>\n",
       "  </thead>\n",
       "  <tbody>\n",
       "    <tr>\n",
       "      <th>0</th>\n",
       "      <td>250.3</td>\n",
       "      <td>170.9</td>\n",
       "      <td>73.2</td>\n",
       "      <td>12.2</td>\n",
       "    </tr>\n",
       "    <tr>\n",
       "      <th>1</th>\n",
       "      <td>296.8</td>\n",
       "      <td>138.5</td>\n",
       "      <td>213.0</td>\n",
       "      <td>66.3</td>\n",
       "    </tr>\n",
       "    <tr>\n",
       "      <th>2</th>\n",
       "      <td>329.4</td>\n",
       "      <td>148.7</td>\n",
       "      <td>277.6</td>\n",
       "      <td>101.3</td>\n",
       "    </tr>\n",
       "  </tbody>\n",
       "</table>\n",
       "</div>"
      ],
      "text/plain": [
       "              sepal length (cm)  sepal width (cm)  petal length (cm)  \\\n",
       "target_names                                                           \n",
       "0                         250.3             170.9               73.2   \n",
       "1                         296.8             138.5              213.0   \n",
       "2                         329.4             148.7              277.6   \n",
       "\n",
       "              petal width (cm)  \n",
       "target_names                    \n",
       "0                         12.2  \n",
       "1                         66.3  \n",
       "2                        101.3  "
      ]
     },
     "execution_count": 36,
     "metadata": {},
     "output_type": "execute_result"
    }
   ],
   "source": [
    "print(\"Data type of DataFrame.groupby is \",type(iris_pd.groupby(by='target_names').sum()))\n",
    "iris_pd.groupby(by='target_names').sum()"
   ]
  },
  {
   "cell_type": "code",
   "execution_count": 37,
   "metadata": {
    "scrolled": false
   },
   "outputs": [
    {
     "data": {
      "text/html": [
       "<div>\n",
       "<style>\n",
       "    .dataframe thead tr:only-child th {\n",
       "        text-align: right;\n",
       "    }\n",
       "\n",
       "    .dataframe thead th {\n",
       "        text-align: left;\n",
       "    }\n",
       "\n",
       "    .dataframe tbody tr th {\n",
       "        vertical-align: top;\n",
       "    }\n",
       "</style>\n",
       "<table border=\"1\" class=\"dataframe\">\n",
       "  <thead>\n",
       "    <tr style=\"text-align: right;\">\n",
       "      <th></th>\n",
       "      <th>sepal length (cm)</th>\n",
       "      <th>sepal width (cm)</th>\n",
       "      <th>petal length (cm)</th>\n",
       "      <th>petal width (cm)</th>\n",
       "    </tr>\n",
       "    <tr>\n",
       "      <th>target_names</th>\n",
       "      <th></th>\n",
       "      <th></th>\n",
       "      <th></th>\n",
       "      <th></th>\n",
       "    </tr>\n",
       "  </thead>\n",
       "  <tbody>\n",
       "    <tr>\n",
       "      <th>0</th>\n",
       "      <td>5.006</td>\n",
       "      <td>3.418</td>\n",
       "      <td>1.464</td>\n",
       "      <td>0.244</td>\n",
       "    </tr>\n",
       "    <tr>\n",
       "      <th>1</th>\n",
       "      <td>5.936</td>\n",
       "      <td>2.770</td>\n",
       "      <td>4.260</td>\n",
       "      <td>1.326</td>\n",
       "    </tr>\n",
       "    <tr>\n",
       "      <th>2</th>\n",
       "      <td>6.588</td>\n",
       "      <td>2.974</td>\n",
       "      <td>5.552</td>\n",
       "      <td>2.026</td>\n",
       "    </tr>\n",
       "  </tbody>\n",
       "</table>\n",
       "</div>"
      ],
      "text/plain": [
       "              sepal length (cm)  sepal width (cm)  petal length (cm)  \\\n",
       "target_names                                                           \n",
       "0                         5.006             3.418              1.464   \n",
       "1                         5.936             2.770              4.260   \n",
       "2                         6.588             2.974              5.552   \n",
       "\n",
       "              petal width (cm)  \n",
       "target_names                    \n",
       "0                        0.244  \n",
       "1                        1.326  \n",
       "2                        2.026  "
      ]
     },
     "execution_count": 37,
     "metadata": {},
     "output_type": "execute_result"
    }
   ],
   "source": [
    "iris_pd.groupby(by='target_names').mean()"
   ]
  },
  {
   "cell_type": "code",
   "execution_count": 38,
   "metadata": {},
   "outputs": [
    {
     "data": {
      "text/html": [
       "<div>\n",
       "<style>\n",
       "    .dataframe thead tr:only-child th {\n",
       "        text-align: right;\n",
       "    }\n",
       "\n",
       "    .dataframe thead th {\n",
       "        text-align: left;\n",
       "    }\n",
       "\n",
       "    .dataframe tbody tr th {\n",
       "        vertical-align: top;\n",
       "    }\n",
       "</style>\n",
       "<table border=\"1\" class=\"dataframe\">\n",
       "  <thead>\n",
       "    <tr style=\"text-align: right;\">\n",
       "      <th></th>\n",
       "      <th>sepal length (cm)</th>\n",
       "      <th>sepal width (cm)</th>\n",
       "      <th>petal length (cm)</th>\n",
       "      <th>petal width (cm)</th>\n",
       "    </tr>\n",
       "    <tr>\n",
       "      <th>target_names</th>\n",
       "      <th></th>\n",
       "      <th></th>\n",
       "      <th></th>\n",
       "      <th></th>\n",
       "    </tr>\n",
       "  </thead>\n",
       "  <tbody>\n",
       "    <tr>\n",
       "      <th>0</th>\n",
       "      <td>0.352490</td>\n",
       "      <td>0.381024</td>\n",
       "      <td>0.173511</td>\n",
       "      <td>0.107210</td>\n",
       "    </tr>\n",
       "    <tr>\n",
       "      <th>1</th>\n",
       "      <td>0.516171</td>\n",
       "      <td>0.313798</td>\n",
       "      <td>0.469911</td>\n",
       "      <td>0.197753</td>\n",
       "    </tr>\n",
       "    <tr>\n",
       "      <th>2</th>\n",
       "      <td>0.635880</td>\n",
       "      <td>0.322497</td>\n",
       "      <td>0.551895</td>\n",
       "      <td>0.274650</td>\n",
       "    </tr>\n",
       "  </tbody>\n",
       "</table>\n",
       "</div>"
      ],
      "text/plain": [
       "              sepal length (cm)  sepal width (cm)  petal length (cm)  \\\n",
       "target_names                                                           \n",
       "0                      0.352490          0.381024           0.173511   \n",
       "1                      0.516171          0.313798           0.469911   \n",
       "2                      0.635880          0.322497           0.551895   \n",
       "\n",
       "              petal width (cm)  \n",
       "target_names                    \n",
       "0                     0.107210  \n",
       "1                     0.197753  \n",
       "2                     0.274650  "
      ]
     },
     "execution_count": 38,
     "metadata": {},
     "output_type": "execute_result"
    }
   ],
   "source": [
    "iris_pd.groupby(by='target_names').std()"
   ]
  },
  {
   "cell_type": "code",
   "execution_count": null,
   "metadata": {},
   "outputs": [],
   "source": []
  },
  {
   "cell_type": "code",
   "execution_count": null,
   "metadata": {
    "collapsed": true
   },
   "outputs": [],
   "source": []
  }
 ],
 "metadata": {
  "kernelspec": {
   "display_name": "Python 3",
   "language": "python",
   "name": "python3"
  },
  "language_info": {
   "codemirror_mode": {
    "name": "ipython",
    "version": 3
   },
   "file_extension": ".py",
   "mimetype": "text/x-python",
   "name": "python",
   "nbconvert_exporter": "python",
   "pygments_lexer": "ipython3",
   "version": "3.6.1"
  }
 },
 "nbformat": 4,
 "nbformat_minor": 2
}
