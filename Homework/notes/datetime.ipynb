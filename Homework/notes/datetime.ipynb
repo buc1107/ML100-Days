{
 "cells": [
  {
   "cell_type": "markdown",
   "metadata": {},
   "source": [
    "# datetime.datetime\n",
    "* 產生有date及time的物件\n",
    "* 有strftime\n",
    "* datetime.datetime.fromtimestamp(time.time object): 產生datetime物件\n",
    "* 用datetime.datetime.now()得到當下日期時間\n",
    "\n",
    "# datetime.date\n",
    "* 產生只有date的物件\n",
    "* 有strftime，時間欄位都用午夜12點表示\n",
    "* datetime.date.fromtimestamp(time.time object): 產生date物件，時間為午夜12點\n",
    "* 用datetime.date.today()得到當日日期"
   ]
  },
  {
   "cell_type": "code",
   "execution_count": 1,
   "metadata": {
    "collapsed": true
   },
   "outputs": [],
   "source": [
    "import datetime\n",
    "import time"
   ]
  },
  {
   "cell_type": "code",
   "execution_count": 2,
   "metadata": {},
   "outputs": [
    {
     "name": "stdout",
     "output_type": "stream",
     "text": [
      "today is  2019-01-11\n",
      "the type of today is  <class 'datetime.date'>\n"
     ]
    }
   ],
   "source": [
    "today = datetime.date.today()\n",
    "print(\"today is \",today)\n",
    "print(\"the type of today is \",type(today))"
   ]
  },
  {
   "cell_type": "code",
   "execution_count": 3,
   "metadata": {},
   "outputs": [
    {
     "name": "stdout",
     "output_type": "stream",
     "text": [
      "thistime is  1547136330.0779092\n",
      "the type of thistime is  <class 'float'>\n"
     ]
    }
   ],
   "source": [
    "thistime = time.time()\n",
    "print(\"thistime is \",thistime)\n",
    "print(\"the type of thistime is \",type(thistime))"
   ]
  },
  {
   "cell_type": "code",
   "execution_count": 4,
   "metadata": {},
   "outputs": [
    {
     "name": "stdout",
     "output_type": "stream",
     "text": [
      "currdatetime is  2019-01-11 00:05:30.086914\n",
      "the type of currdatetime is  <class 'datetime.datetime'>\n"
     ]
    }
   ],
   "source": [
    "currdatetime = datetime.datetime.now()\n",
    "print(\"currdatetime is \",currdatetime)\n",
    "print(\"the type of currdatetime is \",type(currdatetime))"
   ]
  },
  {
   "cell_type": "code",
   "execution_count": 5,
   "metadata": {},
   "outputs": [
    {
     "name": "stdout",
     "output_type": "stream",
     "text": [
      "currdatetimef is  19-01-11-00-05\n",
      "the type of currdatetimef is  <class 'str'>\n"
     ]
    }
   ],
   "source": [
    "currdatetimef = currdatetime.strftime(\"%y-%m-%d-%H-%M\")\n",
    "print(\"currdatetimef is \",currdatetimef)\n",
    "print(\"the type of currdatetimef is \",type(currdatetimef))"
   ]
  },
  {
   "cell_type": "code",
   "execution_count": 6,
   "metadata": {},
   "outputs": [
    {
     "name": "stdout",
     "output_type": "stream",
     "text": [
      "currdatetime2 is  Fri Jan 11 00:00:00 2019\n",
      "the type of currdatetime2 is  <class 'datetime.date'>\n"
     ]
    }
   ],
   "source": [
    "currdatetime2 = datetime.date.fromtimestamp(thistime)\n",
    "print(\"currdatetime2 is \",currdatetime2.strftime('%c'))\n",
    "print(\"the type of currdatetime2 is \",type(currdatetime2))"
   ]
  },
  {
   "cell_type": "code",
   "execution_count": 7,
   "metadata": {},
   "outputs": [
    {
     "name": "stdout",
     "output_type": "stream",
     "text": [
      "currdatetime3 is  Fri Jan 11 00:05:30 2019\n",
      "the type of currdatetime3 is  <class 'datetime.datetime'>\n"
     ]
    }
   ],
   "source": [
    "currdatetime3 = datetime.datetime.fromtimestamp(thistime)\n",
    "print(\"currdatetime3 is \",currdatetime3.strftime('%c'))\n",
    "print(\"the type of currdatetime3 is \",type(currdatetime3))"
   ]
  },
  {
   "cell_type": "markdown",
   "metadata": {},
   "source": [
    "## strftime \n",
    "* A method of a datetime.datetime object\n",
    "* A method of a datetime.date object\n",
    "\n",
    "|specifier|Replaced by|Example|\n",
    "| --- | :------------------------------------- | ---- |\n",
    "| %a\t| Weekday as locale’s abbreviated name. |\tMon |\n",
    "| %A\t| Weekday as locale’s full name. |\tMonday |\n",
    "| %w\t| Weekday as a decimal number, where 0 is Sunday and 6 is Saturday. |\t1 |\n",
    "| %d\t| Day of the month as a zero-padded decimal number. |\t30 |\n",
    "| %-d\t| Day of the month as a decimal number. (Platform specific)\t| 30 |\n",
    "| %b\t| Month as locale’s abbreviated name. |\tSep |\n",
    "| %B\t| Month as locale’s full name. |\tSeptember |\n",
    "| %m\t| Month as a zero-padded decimal number. |\t09 |\n",
    "| %-m\t| Month as a decimal number. (Platform specific) |\t9 |\n",
    "| %y\t| Year without century as a zero-padded decimal number. |\t13 |\n",
    "| %Y\t| Year with century as a decimal number. |\t2013 |\n",
    "| %H\t| Hour (24-hour clock) as a zero-padded decimal number. |\t07 |\n",
    "| %-H\t| Hour (24-hour clock) as a decimal number. (Platform specific)\t| 7 |\n",
    "| %I\t| Hour (12-hour clock) as a zero-padded decimal number. |\t07 |\n",
    "| %-I\t| Hour (12-hour clock) as a decimal number. (Platform specific)\t| 7 |\n",
    "| %p\t| Locale’s equivalent of either AM or PM. |\tAM |\n",
    "| %M\t| Minute as a zero-padded decimal number. |\t06 |\n",
    "| %-M\t| Minute as a decimal number. (Platform specific) |\t6 |\n",
    "| %S\t| Second as a zero-padded decimal number. |\t05 |\n",
    "| %-S\t| Second as a decimal number. (Platform specific) |\t5 |\n",
    "| %f\t| Microsecond as a decimal number, zero-padded on the left. |\t000000 |\n",
    "| %z\t| UTC offset in the form +HHMM or -HHMM (empty string if the the object is naive). |\t |\n",
    "| %Z\t| Time zone name (empty string if the object is naive). |\t |\n",
    "| %j\t| Day of the year as a zero-padded decimal number. |\t273 |\n",
    "| %-j\t| Day of the year as a decimal number. (Platform specific)\t| 273 |\n",
    "| %U\t| Week number of the year (Sunday as the first day of the week) as a zero padded decimal number. All days in a new year preceding the first Sunday are considered to be in week 0. |\t39 |\n",
    "| %W\t| Week number of the year (Monday as the first day of the week) as a decimal number. All days in a new year preceding the first Monday are considered to be in week 0. |\t39 |\n",
    "| %c\t| Locale’s appropriate date and time representation. |\tMon Sep 30 07:06:05 2013 |\n",
    "| %x\t| Locale’s appropriate date representation. |\t09/30/13 |\n",
    "| %X\t| Locale’s appropriate time representation. |\t07:06:05 |\n",
    "| %%\t| A literal '%' character. |\t% |"
   ]
  },
  {
   "cell_type": "code",
   "execution_count": 8,
   "metadata": {},
   "outputs": [
    {
     "name": "stdout",
     "output_type": "stream",
     "text": [
      "%a \t: Fri\n",
      "%A \t: Friday\n",
      "%w \t: 5\n"
     ]
    }
   ],
   "source": [
    "print(\"%a \\t:\",currdatetime.strftime('%a'))\n",
    "print(\"%A \\t:\",currdatetime.strftime('%A'))\n",
    "print(\"%w \\t:\",currdatetime.strftime('%w'))"
   ]
  },
  {
   "cell_type": "code",
   "execution_count": 9,
   "metadata": {},
   "outputs": [
    {
     "name": "stdout",
     "output_type": "stream",
     "text": [
      "%d \t: 11\n",
      "%b \t: Jan\n",
      "%B \t: January\n",
      "%m \t: 01\n"
     ]
    }
   ],
   "source": [
    "print(\"%d \\t:\",currdatetime.strftime('%d'))\n",
    "#print(\"%-d \\t:\",currdatetime.strftime('%-d'))\n",
    "print(\"%b \\t:\",currdatetime.strftime('%b'))\n",
    "print(\"%B \\t:\",currdatetime.strftime('%B'))\n",
    "print(\"%m \\t:\",currdatetime.strftime('%m'))\n",
    "#print(\"%-m \\t:\",currdatetime.strftime('%-m'))"
   ]
  },
  {
   "cell_type": "code",
   "execution_count": 10,
   "metadata": {},
   "outputs": [
    {
     "name": "stdout",
     "output_type": "stream",
     "text": [
      "%y \t: 19\n",
      "%Y \t: 2019\n"
     ]
    }
   ],
   "source": [
    "print(\"%y \\t:\",currdatetime.strftime('%y'))\n",
    "print(\"%Y \\t:\",currdatetime.strftime('%Y'))"
   ]
  },
  {
   "cell_type": "code",
   "execution_count": 11,
   "metadata": {},
   "outputs": [
    {
     "name": "stdout",
     "output_type": "stream",
     "text": [
      "%H \t: 00\n",
      "%I \t: 12\n",
      "%p \t: AM\n"
     ]
    }
   ],
   "source": [
    "print(\"%H \\t:\",currdatetime.strftime('%H'))\n",
    "print(\"%I \\t:\",currdatetime.strftime('%I'))\n",
    "print(\"%p \\t:\",currdatetime.strftime('%p'))"
   ]
  },
  {
   "cell_type": "code",
   "execution_count": 12,
   "metadata": {},
   "outputs": [
    {
     "name": "stdout",
     "output_type": "stream",
     "text": [
      "%M \t: 05\n",
      "%S \t: 30\n",
      "%f \t: 086914\n"
     ]
    }
   ],
   "source": [
    "print(\"%M \\t:\",currdatetime.strftime('%M'))\n",
    "print(\"%S \\t:\",currdatetime.strftime('%S'))\n",
    "print(\"%f \\t:\",currdatetime.strftime('%f'))"
   ]
  },
  {
   "cell_type": "code",
   "execution_count": 13,
   "metadata": {},
   "outputs": [
    {
     "name": "stdout",
     "output_type": "stream",
     "text": [
      "%j \t: 011\n",
      "%U \t: 01\n",
      "%W \t: 01\n"
     ]
    }
   ],
   "source": [
    "print(\"%j \\t:\",currdatetime.strftime('%j'))\n",
    "print(\"%U \\t:\",currdatetime.strftime('%U'))\n",
    "print(\"%W \\t:\",currdatetime.strftime('%W'))"
   ]
  },
  {
   "cell_type": "code",
   "execution_count": 14,
   "metadata": {},
   "outputs": [
    {
     "name": "stdout",
     "output_type": "stream",
     "text": [
      "%c \t: Fri Jan 11 00:05:30 2019\n",
      "%x \t: 01/11/19\n",
      "%X \t: 00:05:30\n"
     ]
    }
   ],
   "source": [
    "print(\"%c \\t:\",currdatetime.strftime('%c'))\n",
    "print(\"%x \\t:\",currdatetime.strftime('%x'))\n",
    "print(\"%X \\t:\",currdatetime.strftime('%X'))"
   ]
  },
  {
   "cell_type": "code",
   "execution_count": 15,
   "metadata": {},
   "outputs": [
    {
     "name": "stdout",
     "output_type": "stream",
     "text": [
      "mydate =  2019-03-05\n",
      "type of mydate =  <class 'datetime.date'>\n"
     ]
    }
   ],
   "source": [
    "mydate = datetime.date(2019,3,5)\n",
    "print(\"mydate = \",mydate)\n",
    "print(\"type of mydate = \",type(mydate))"
   ]
  },
  {
   "cell_type": "code",
   "execution_count": 16,
   "metadata": {},
   "outputs": [
    {
     "name": "stdout",
     "output_type": "stream",
     "text": [
      "%a \t: Tue\n",
      "%A \t: Tuesday\n",
      "%w \t: 2\n"
     ]
    }
   ],
   "source": [
    "print(\"%a \\t:\",mydate.strftime('%a'))\n",
    "print(\"%A \\t:\",mydate.strftime('%A'))\n",
    "print(\"%w \\t:\",mydate.strftime('%w'))"
   ]
  },
  {
   "cell_type": "code",
   "execution_count": 17,
   "metadata": {},
   "outputs": [
    {
     "name": "stdout",
     "output_type": "stream",
     "text": [
      "%d \t: 05\n",
      "%b \t: Mar\n",
      "%B \t: March\n",
      "%m \t: 03\n"
     ]
    }
   ],
   "source": [
    "print(\"%d \\t:\",mydate.strftime('%d'))\n",
    "print(\"%b \\t:\",mydate.strftime('%b'))\n",
    "print(\"%B \\t:\",mydate.strftime('%B'))\n",
    "print(\"%m \\t:\",mydate.strftime('%m'))"
   ]
  },
  {
   "cell_type": "code",
   "execution_count": 18,
   "metadata": {},
   "outputs": [
    {
     "name": "stdout",
     "output_type": "stream",
     "text": [
      "%y \t: 19\n",
      "%Y \t: 2019\n"
     ]
    }
   ],
   "source": [
    "print(\"%y \\t:\",mydate.strftime('%y'))\n",
    "print(\"%Y \\t:\",mydate.strftime('%Y'))"
   ]
  },
  {
   "cell_type": "code",
   "execution_count": 19,
   "metadata": {},
   "outputs": [
    {
     "name": "stdout",
     "output_type": "stream",
     "text": [
      "%H \t: 00\n",
      "%I \t: 12\n",
      "%p \t: AM\n"
     ]
    }
   ],
   "source": [
    "print(\"%H \\t:\",mydate.strftime('%H'))\n",
    "print(\"%I \\t:\",mydate.strftime('%I'))\n",
    "print(\"%p \\t:\",mydate.strftime('%p'))"
   ]
  },
  {
   "cell_type": "code",
   "execution_count": 20,
   "metadata": {},
   "outputs": [
    {
     "name": "stdout",
     "output_type": "stream",
     "text": [
      "%M \t: 00\n",
      "%S \t: 00\n",
      "%f \t: 000000\n"
     ]
    }
   ],
   "source": [
    "print(\"%M \\t:\",mydate.strftime('%M'))\n",
    "print(\"%S \\t:\",mydate.strftime('%S'))\n",
    "print(\"%f \\t:\",mydate.strftime('%f'))"
   ]
  },
  {
   "cell_type": "code",
   "execution_count": 21,
   "metadata": {},
   "outputs": [
    {
     "name": "stdout",
     "output_type": "stream",
     "text": [
      "%j \t: 064\n",
      "%U \t: 09\n",
      "%W \t: 09\n"
     ]
    }
   ],
   "source": [
    "print(\"%j \\t:\",mydate.strftime('%j'))\n",
    "print(\"%U \\t:\",mydate.strftime('%U'))\n",
    "print(\"%W \\t:\",mydate.strftime('%W'))"
   ]
  },
  {
   "cell_type": "code",
   "execution_count": 22,
   "metadata": {},
   "outputs": [
    {
     "name": "stdout",
     "output_type": "stream",
     "text": [
      "%c \t: Tue Mar  5 00:00:00 2019\n",
      "%x \t: 03/05/19\n",
      "%X \t: 00:00:00\n"
     ]
    }
   ],
   "source": [
    "print(\"%c \\t:\",mydate.strftime('%c'))\n",
    "print(\"%x \\t:\",mydate.strftime('%x'))\n",
    "print(\"%X \\t:\",mydate.strftime('%X'))"
   ]
  },
  {
   "cell_type": "code",
   "execution_count": 24,
   "metadata": {},
   "outputs": [
    {
     "name": "stdout",
     "output_type": "stream",
     "text": [
      "datetimestr =  Fri Jan 11 00:05:30 2019\n",
      "type of datetimestr =  <class 'str'>\n"
     ]
    }
   ],
   "source": [
    "datetimestr = currdatetime.strftime('%c')\n",
    "print(\"datetimestr = \",datetimestr)\n",
    "print(\"type of datetimestr = \",type(datetimestr))"
   ]
  },
  {
   "cell_type": "code",
   "execution_count": 26,
   "metadata": {},
   "outputs": [
    {
     "data": {
      "text/plain": [
       "datetime.datetime(2019, 1, 11, 0, 5, 30)"
      ]
     },
     "execution_count": 26,
     "metadata": {},
     "output_type": "execute_result"
    }
   ],
   "source": [
    "datetime.datetime.strptime(datetimestr,'%c')"
   ]
  },
  {
   "cell_type": "code",
   "execution_count": 39,
   "metadata": {
    "scrolled": false
   },
   "outputs": [
    {
     "ename": "TypeError",
     "evalue": "descriptor 'strftime' requires a 'datetime.date' object but received a 'str'",
     "output_type": "error",
     "traceback": [
      "\u001b[1;31m---------------------------------------------------------------------------\u001b[0m",
      "\u001b[1;31mTypeError\u001b[0m                                 Traceback (most recent call last)",
      "\u001b[1;32m<ipython-input-39-76ed216ce979>\u001b[0m in \u001b[0;36m<module>\u001b[1;34m()\u001b[0m\n\u001b[1;32m----> 1\u001b[1;33m \u001b[0mdatetime\u001b[0m\u001b[1;33m.\u001b[0m\u001b[0mdatetime\u001b[0m\u001b[1;33m.\u001b[0m\u001b[0mstrftime\u001b[0m\u001b[1;33m(\u001b[0m\u001b[0mdatetimestr\u001b[0m\u001b[1;33m,\u001b[0m \u001b[1;34m'%Y'\u001b[0m\u001b[1;33m)\u001b[0m\u001b[1;33m\u001b[0m\u001b[0m\n\u001b[0m",
      "\u001b[1;31mTypeError\u001b[0m: descriptor 'strftime' requires a 'datetime.date' object but received a 'str'"
     ]
    }
   ],
   "source": [
    "datetime.datetime.strftime(datetimestr, '%Y')"
   ]
  },
  {
   "cell_type": "code",
   "execution_count": null,
   "metadata": {
    "collapsed": true
   },
   "outputs": [],
   "source": []
  }
 ],
 "metadata": {
  "kernelspec": {
   "display_name": "Python 3",
   "language": "python",
   "name": "python3"
  },
  "language_info": {
   "codemirror_mode": {
    "name": "ipython",
    "version": 3
   },
   "file_extension": ".py",
   "mimetype": "text/x-python",
   "name": "python",
   "nbconvert_exporter": "python",
   "pygments_lexer": "ipython3",
   "version": "3.6.1"
  }
 },
 "nbformat": 4,
 "nbformat_minor": 2
}
