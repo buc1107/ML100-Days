{
 "cells": [
  {
   "cell_type": "code",
   "execution_count": 1,
   "metadata": {
    "collapsed": true
   },
   "outputs": [],
   "source": [
    "import pandas as pd\n",
    "import numpy as np"
   ]
  },
  {
   "cell_type": "markdown",
   "metadata": {
    "collapsed": true
   },
   "source": [
    "### 方法一"
   ]
  },
  {
   "cell_type": "code",
   "execution_count": 2,
   "metadata": {},
   "outputs": [
    {
     "name": "stdout",
     "output_type": "stream",
     "text": [
      "<class 'dict'>\n",
      "<class 'list'>\n",
      "   col1  col2\n",
      "5     1   100\n",
      "6     3   200\n",
      "7     5   150\n",
      "8     7   500\n",
      "   col1  col2\n",
      "0     1   100\n",
      "1     3   200\n",
      "2     5   150\n",
      "3     7   500\n",
      "          0         1         2         3         4\n",
      "0 -0.575075 -1.125674 -2.011969  1.136203 -0.339186\n",
      "1 -1.041713  0.481173 -1.878911 -1.742437  3.741408\n",
      "2  1.758459 -0.799001 -0.381031  0.614049 -0.371554\n",
      "3 -1.050049  0.780853 -2.029471 -0.582581  1.850206\n",
      "4 -1.521198  1.018603 -0.877185  0.942553 -0.062888\n",
      "5 -1.034746  0.429380  0.777019 -0.178412 -0.536854\n",
      "6 -2.638295  0.785942  0.866332 -0.090744 -0.401490\n",
      "7  0.143217  0.439144 -0.382683  1.883867 -0.935578\n",
      "8  0.649049  1.291340 -0.779638  0.689045  3.628764\n",
      "9 -0.006852 -0.318923 -0.582627 -0.504686 -1.583185\n",
      "          a         b         c         d         e\n",
      "0 -1.666021 -1.189566 -1.609741  0.795507 -0.177721\n",
      "1 -1.274978 -0.678366 -1.277856 -2.418824 -1.118785\n",
      "2  0.743751  0.000741 -1.263836 -1.384547  0.605174\n",
      "3  0.216947  1.059422 -0.947519  1.206634  1.889340\n",
      "4  1.169537 -0.473509 -0.736642 -0.229049 -0.100947\n",
      "5  0.343244 -0.809470 -0.077225  0.599867  0.352536\n",
      "6 -0.916964  1.288295 -0.580869  0.239969  0.776231\n",
      "7 -1.586757 -0.098206  0.290947  0.058888 -0.214763\n",
      "8 -0.603768 -0.581184 -1.274558 -1.011697  1.625292\n",
      "9  1.136970  0.240894 -1.855820 -0.399023  1.121847\n"
     ]
    }
   ],
   "source": [
    "data = {'weekday': ['Sun', 'Sun', 'Mon', 'Mon'],\n",
    "        'city': ['Austin', 'Dallas', 'Austin', 'Dallas'],\n",
    "        'visitor': [139, 237, 326, 456]}\n",
    "print(type(data))\n",
    "print(type(data['weekday']))\n",
    "#pd.DataFrame?\n",
    "ts1 = [1,3,5,7]\n",
    "ts2 = [100,200,150,500]\n",
    "index = [5,6,7,8]\n",
    "d = {'col1': ts1, 'col2': ts2}\n",
    "df = pd.DataFrame(data=d, index=index)\n",
    "df1 = pd.DataFrame(data=d)\n",
    "df2 = pd.DataFrame(np.random.randn(10, 5))\n",
    "df3 = pd.DataFrame(np.random.randn(10, 5),columns=['a', 'b', 'c', 'd', 'e'])\n",
    "print(df)\n",
    "print(df1)\n",
    "print(df2)\n",
    "print(df3)"
   ]
  },
  {
   "cell_type": "code",
   "execution_count": 3,
   "metadata": {},
   "outputs": [
    {
     "name": "stdout",
     "output_type": "stream",
     "text": [
      "     city  visitor weekday\n",
      "0  Austin      139     Sun\n",
      "1  Dallas      237     Sun\n",
      "2  Austin      326     Mon\n",
      "3  Dallas      456     Mon\n"
     ]
    }
   ],
   "source": [
    "visitors_1 = pd.DataFrame(data)\n",
    "print(visitors_1)"
   ]
  },
  {
   "cell_type": "markdown",
   "metadata": {},
   "source": [
    "### 方法二"
   ]
  },
  {
   "cell_type": "code",
   "execution_count": 4,
   "metadata": {},
   "outputs": [
    {
     "name": "stdout",
     "output_type": "stream",
     "text": [
      "['city', 'weekday', 'visitor']\n",
      "[['Austin', 'Dallas', 'Austin', 'Dallas'], ['Sun', 'Sun', 'Mon', 'Mon'], [139, 237, 326, 456]]\n",
      "('city', ['Austin', 'Dallas', 'Austin', 'Dallas']) ('weekday', ['Sun', 'Sun', 'Mon', 'Mon']) ('visitor', [139, 237, 326, 456])\n",
      "[('city', ['Austin', 'Dallas', 'Austin', 'Dallas']), ('weekday', ['Sun', 'Sun', 'Mon', 'Mon']), ('visitor', [139, 237, 326, 456])]\n",
      "{'city': ['Austin', 'Dallas', 'Austin', 'Dallas'], 'weekday': ['Sun', 'Sun', 'Mon', 'Mon'], 'visitor': [139, 237, 326, 456]}\n"
     ]
    }
   ],
   "source": [
    "cities = ['Austin', 'Dallas', 'Austin', 'Dallas']\n",
    "weekdays = ['Sun', 'Sun', 'Mon', 'Mon']\n",
    "visitors = [139, 237, 326, 456]\n",
    "\n",
    "list_labels = ['city', 'weekday', 'visitor']\n",
    "list_cols = [cities, weekdays, visitors]\n",
    "\n",
    "pre_zipped = zip(list_labels, list_cols)\n",
    "zipped = list(zip(list_labels, list_cols))\n",
    "print(list_labels)\n",
    "print(list_cols)\n",
    "print(*pre_zipped)\n",
    "print(zipped)\n",
    "print(dict(zipped))\n",
    "#print(dict(*pre_zipped))"
   ]
  },
  {
   "cell_type": "code",
   "execution_count": 5,
   "metadata": {},
   "outputs": [
    {
     "name": "stdout",
     "output_type": "stream",
     "text": [
      "     city  visitor weekday\n",
      "0  Austin      139     Sun\n",
      "1  Dallas      237     Sun\n",
      "2  Austin      326     Mon\n",
      "3  Dallas      456     Mon\n"
     ]
    }
   ],
   "source": [
    "visitors_2 = pd.DataFrame(dict(zipped))\n",
    "print(visitors_2)"
   ]
  },
  {
   "cell_type": "markdown",
   "metadata": {},
   "source": [
    "## 一個簡單例子\n",
    "假設你想知道如果利用 pandas 計算上述資料中，每個 weekday 的平均 visitor 數量，\n",
    "\n",
    "通過 google 你找到了 https://stackoverflow.com/questions/30482071/how-to-calculate-mean-values-grouped-on-another-column-in-pandas\n",
    "\n",
    "想要測試的時候就可以用 visitors_1 這個只有 4 筆資料的資料集來測試程式碼"
   ]
  },
  {
   "cell_type": "code",
   "execution_count": 6,
   "metadata": {},
   "outputs": [
    {
     "data": {
      "text/plain": [
       "weekday\n",
       "Mon    391\n",
       "Sun    188\n",
       "Name: visitor, dtype: int64"
      ]
     },
     "execution_count": 6,
     "metadata": {},
     "output_type": "execute_result"
    }
   ],
   "source": [
    "visitors_1.groupby(by=\"weekday\")['visitor'].mean()"
   ]
  },
  {
   "cell_type": "code",
   "execution_count": 7,
   "metadata": {},
   "outputs": [
    {
     "data": {
      "text/html": [
       "<div>\n",
       "<style>\n",
       "    .dataframe thead tr:only-child th {\n",
       "        text-align: right;\n",
       "    }\n",
       "\n",
       "    .dataframe thead th {\n",
       "        text-align: left;\n",
       "    }\n",
       "\n",
       "    .dataframe tbody tr th {\n",
       "        vertical-align: top;\n",
       "    }\n",
       "</style>\n",
       "<table border=\"1\" class=\"dataframe\">\n",
       "  <thead>\n",
       "    <tr style=\"text-align: right;\">\n",
       "      <th></th>\n",
       "      <th>city</th>\n",
       "      <th>visitor</th>\n",
       "      <th>weekday</th>\n",
       "    </tr>\n",
       "  </thead>\n",
       "  <tbody>\n",
       "    <tr>\n",
       "      <th>0</th>\n",
       "      <td>Austin</td>\n",
       "      <td>139</td>\n",
       "      <td>Sun</td>\n",
       "    </tr>\n",
       "    <tr>\n",
       "      <th>1</th>\n",
       "      <td>Dallas</td>\n",
       "      <td>237</td>\n",
       "      <td>Sun</td>\n",
       "    </tr>\n",
       "    <tr>\n",
       "      <th>2</th>\n",
       "      <td>Austin</td>\n",
       "      <td>326</td>\n",
       "      <td>Mon</td>\n",
       "    </tr>\n",
       "    <tr>\n",
       "      <th>3</th>\n",
       "      <td>Dallas</td>\n",
       "      <td>456</td>\n",
       "      <td>Mon</td>\n",
       "    </tr>\n",
       "  </tbody>\n",
       "</table>\n",
       "</div>"
      ],
      "text/plain": [
       "     city  visitor weekday\n",
       "0  Austin      139     Sun\n",
       "1  Dallas      237     Sun\n",
       "2  Austin      326     Mon\n",
       "3  Dallas      456     Mon"
      ]
     },
     "execution_count": 7,
     "metadata": {},
     "output_type": "execute_result"
    }
   ],
   "source": [
    "visitors_1"
   ]
  },
  {
   "cell_type": "code",
   "execution_count": 8,
   "metadata": {},
   "outputs": [
    {
     "data": {
      "text/plain": [
       "weekday\n",
       "Mon    391\n",
       "Sun    188\n",
       "Name: visitor, dtype: int64"
      ]
     },
     "execution_count": 8,
     "metadata": {},
     "output_type": "execute_result"
    }
   ],
   "source": [
    "visitors_1.groupby(by='weekday')['visitor'].mean()"
   ]
  },
  {
   "cell_type": "code",
   "execution_count": 9,
   "metadata": {},
   "outputs": [
    {
     "name": "stdout",
     "output_type": "stream",
     "text": [
      "[[1, 2, 3], [4, 5, 6], [7, 8, 9]]\n",
      "[1, 2, 3]\n",
      "3\n",
      "[[1, 2, 3], [4, 5, 6], [7, 8, 9]]\n"
     ]
    }
   ],
   "source": [
    "a = [[1, 2, 3], [4, 5, 6], [7, 8, 9]]\n",
    "print(a)\n",
    "print(a[0])\n",
    "print(len(a[0]))\n",
    "print([row for row in a])\n",
    "     "
   ]
  },
  {
   "cell_type": "code",
   "execution_count": 10,
   "metadata": {},
   "outputs": [
    {
     "name": "stdout",
     "output_type": "stream",
     "text": [
      "[[1, 4, 7], [2, 5, 8], [3, 6, 9]]\n"
     ]
    }
   ],
   "source": [
    "print( [[row[col] for row in a] for col in range(len(a[0]))] )"
   ]
  },
  {
   "cell_type": "code",
   "execution_count": null,
   "metadata": {
    "collapsed": true
   },
   "outputs": [],
   "source": []
  }
 ],
 "metadata": {
  "kernelspec": {
   "display_name": "Python 3",
   "language": "python",
   "name": "python3"
  },
  "language_info": {
   "codemirror_mode": {
    "name": "ipython",
    "version": 3
   },
   "file_extension": ".py",
   "mimetype": "text/x-python",
   "name": "python",
   "nbconvert_exporter": "python",
   "pygments_lexer": "ipython3",
   "version": "3.6.1"
  }
 },
 "nbformat": 4,
 "nbformat_minor": 2
}
