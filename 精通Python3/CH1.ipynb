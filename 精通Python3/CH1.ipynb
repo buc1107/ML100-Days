{
 "cells": [
  {
   "attachments": {},
   "cell_type": "markdown",
   "metadata": {
    "collapsed": true
   },
   "source": [
    "# Python程式的建立與執行\n",
    "凡是能夠以ASCII或UTF-8Unicode字符編碼法來載入和儲存文字的純文字編輯器，都能夠用來寫Python\n",
    "* ASCII: 8-bit, 128種字符\n",
    "* 非ASCII編碼: 在128-255的空間，表示其他字符，但不同國家語言在此區間的編碼不同\n",
    "* Unicode: 不固定長度，所有字符都有編碼，100多萬\n",
    "* UTF-8: Unicode的一種實現方式，可使用1-4 Byte表示字符\n",
    "  - Rule 1: 1-byte word: 第一bit設為0，其餘為ASCII\n",
    "  - Rule 2: n-byte word: 第一byte前n bits都為1，第n+1 bit為0，其餘byte的前2 bits設為10，其餘為字碼\n",
    "![CH1-001](images/CH1-001.png)"
   ]
  },
  {
   "cell_type": "markdown",
   "metadata": {
    "collapsed": true
   },
   "source": [
    "# Python 要件"
   ]
  },
  {
   "cell_type": "markdown",
   "metadata": {},
   "source": [
    "## 要件#1: 資料型態"
   ]
  },
  {
   "cell_type": "markdown",
   "metadata": {},
   "source": [
    "### 整數:\n",
    "* int型別\n",
    "* 大小受限於機器記憶體，非固定位元數\n",
    "* $2^{217}$ 是可以表示的\n",
    "* immutable (不可改變的)"
   ]
  },
  {
   "cell_type": "markdown",
   "metadata": {},
   "source": [
    "### 字串:\n",
    "* str型態\n",
    "* 使用Unicode，可表示任何字符\n",
    "* 空字串為 '', delimiter之間為空\n",
    "* immutable (不可改變的)"
   ]
  },
  {
   "cell_type": "code",
   "execution_count": 1,
   "metadata": {},
   "outputs": [
    {
     "name": "stdout",
     "output_type": "stream",
     "text": [
      "T\n",
      "g\n"
     ]
    }
   ],
   "source": [
    "print(\"Hard Times\"[5])\n",
    "print(\"giraffe\"[0])"
   ]
  },
  {
   "cell_type": "markdown",
   "metadata": {},
   "source": [
    "### 型別轉換\n",
    "* datatype (item)"
   ]
  },
  {
   "cell_type": "code",
   "execution_count": 3,
   "metadata": {},
   "outputs": [
    {
     "name": "stdout",
     "output_type": "stream",
     "text": [
      "int(\"45\") =  45 with data type <class 'int'>\n",
      "str(45) =  45 with data type <class 'str'>\n"
     ]
    }
   ],
   "source": [
    "print(\"int(\\\"45\\\") = \",int(\"45\"),\"with data type\",type(int(\"45\")))\n",
    "print(\"str(45) = \",str(45),\"with data type\",type(str(45)))"
   ]
  },
  {
   "cell_type": "markdown",
   "metadata": {},
   "source": [
    "## 要件#2: 物件參照"
   ]
  },
  {
   "cell_type": "code",
   "execution_count": null,
   "metadata": {
    "collapsed": true
   },
   "outputs": [],
   "source": []
  },
  {
   "cell_type": "markdown",
   "metadata": {},
   "source": [
    "## 要件#3: 群集資料型態"
   ]
  },
  {
   "cell_type": "markdown",
   "metadata": {},
   "source": [
    "## 要件#4: 邏輯運算"
   ]
  },
  {
   "cell_type": "markdown",
   "metadata": {},
   "source": [
    "## 要件#5: 控制執行流程的陳述句"
   ]
  },
  {
   "cell_type": "markdown",
   "metadata": {},
   "source": [
    "## 要件#6: 算術運算符"
   ]
  },
  {
   "cell_type": "markdown",
   "metadata": {},
   "source": [
    "## 要件#7: 輸入/輸出"
   ]
  },
  {
   "cell_type": "markdown",
   "metadata": {},
   "source": [
    "## 要件#8: 函式的建立與呼叫"
   ]
  },
  {
   "cell_type": "code",
   "execution_count": null,
   "metadata": {
    "collapsed": true
   },
   "outputs": [],
   "source": []
  }
 ],
 "metadata": {
  "anaconda-cloud": {},
  "kernelspec": {
   "display_name": "Python 3",
   "language": "python",
   "name": "python3"
  },
  "language_info": {
   "codemirror_mode": {
    "name": "ipython",
    "version": 3
   },
   "file_extension": ".py",
   "mimetype": "text/x-python",
   "name": "python",
   "nbconvert_exporter": "python",
   "pygments_lexer": "ipython3",
   "version": "3.6.1"
  }
 },
 "nbformat": 4,
 "nbformat_minor": 1
}
