{
 "cells": [
  {
   "attachments": {},
   "cell_type": "markdown",
   "metadata": {
    "collapsed": true
   },
   "source": [
    "# Python程式的建立與執行\n",
    "凡是能夠以ASCII或UTF-8Unicode字符編碼法來載入和儲存文字的純文字編輯器，都能夠用來寫Python\n",
    "* ASCII: 8-bit, 128種字符\n",
    "* 非ASCII編碼: 在128-255的空間，表示其他字符，但不同國家語言在此區間的編碼不同\n",
    "* Unicode: 不固定長度，所有字符都有編碼，100多萬\n",
    "* UTF-8: Unicode的一種實現方式\n",
    "\n",
    "![CH1-001](images/CH1-001.png)"
   ]
  },
  {
   "cell_type": "code",
   "execution_count": null,
   "metadata": {
    "collapsed": true
   },
   "outputs": [],
   "source": []
  }
 ],
 "metadata": {
  "anaconda-cloud": {},
  "kernelspec": {
   "display_name": "Python 3",
   "language": "python",
   "name": "python3"
  },
  "language_info": {
   "codemirror_mode": {
    "name": "ipython",
    "version": 3
   },
   "file_extension": ".py",
   "mimetype": "text/x-python",
   "name": "python",
   "nbconvert_exporter": "python",
   "pygments_lexer": "ipython3",
   "version": "3.6.1"
  }
 },
 "nbformat": 4,
 "nbformat_minor": 1
}
